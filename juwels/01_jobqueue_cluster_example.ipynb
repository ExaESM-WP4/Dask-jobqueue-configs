{
 "cells": [
  {
   "cell_type": "markdown",
   "metadata": {},
   "source": [
    "# Dask jobqueue example for JUWELS at JSC\n",
    "covers the following aspects, i.e. how to\n",
    "* add the JUWELS specific Dask jobqueue configuration\n",
    "* get overview on available JUWELS compute node resources\n",
    "* specify batch queue and project budget name\n",
    "* open, scale and close a default jobqueue cluster\n",
    "* do an example calculation on larger than memory data"
   ]
  },
  {
   "cell_type": "code",
   "execution_count": 1,
   "metadata": {},
   "outputs": [],
   "source": [
    "import dask, dask_jobqueue, os\n",
    "import dask.distributed as dask_distributed"
   ]
  },
  {
   "cell_type": "markdown",
   "metadata": {},
   "source": [
    "## Load jobqueue configuration defaults"
   ]
  },
  {
   "cell_type": "code",
   "execution_count": 2,
   "metadata": {},
   "outputs": [],
   "source": [
    "additional_config = dask.config.collect(paths=['.']) # look up further Dask configurations in local directory\n",
    "dask.config.update(dask.config.config, additional_config, priority='new');"
   ]
  },
  {
   "cell_type": "code",
   "execution_count": 3,
   "metadata": {},
   "outputs": [
    {
     "data": {
      "text/plain": [
       "{'cores': 96,\n",
       " 'memory': '86864MiB',\n",
       " 'processes': 1,\n",
       " 'local-directory': None,\n",
       " 'death-timeout': 60,\n",
       " 'extra': [],\n",
       " 'interface': 'ib0',\n",
       " 'shebang': '#!/usr/bin/env bash',\n",
       " 'walltime': '00:15:00',\n",
       " 'log-directory': 'dask-jobqueue-logs',\n",
       " 'name': 'dask-worker',\n",
       " 'env-extra': ['export DASK_DISTRIBUTED__WORKER__MEMORY__SPILL=False',\n",
       "  'export DASK_DISTRIBUTED__WORKER__MEMORY__TARGET=False',\n",
       "  'export DASK_DISTRIBUTED__WORKER__MEMORY__PAUSE=0.8',\n",
       "  'export DASK_DISTRIBUTED__WORKER__MEMORY__TERMINATE=0.9'],\n",
       " 'project': None,\n",
       " 'queue': None,\n",
       " 'job-cpu': None,\n",
       " 'job-mem': None,\n",
       " 'job-extra': []}"
      ]
     },
     "execution_count": 3,
     "metadata": {},
     "output_type": "execute_result"
    }
   ],
   "source": [
    "dask.config.get('jobqueue.juwels-jobqueue-config')"
   ]
  },
  {
   "cell_type": "markdown",
   "metadata": {},
   "source": [
    "## Inspect cluster utilization"
   ]
  },
  {
   "cell_type": "markdown",
   "metadata": {},
   "source": [
    "Overview about idle nodes for each batch partition. This is, however, only a very general overview. As the scheduler reserves compute nodes for jobs that are already chosen to start-up very soon, and as the scheduler still reports these reserved nodes as being \"idle\", the numbers below are not necessarily related to the actual number of readily usable compute nodes."
   ]
  },
  {
   "cell_type": "code",
   "execution_count": 4,
   "metadata": {},
   "outputs": [
    {
     "name": "stdout",
     "output_type": "stream",
     "text": [
      "PARTITION AVAIL NODES STATE\n",
      "batch*       up   279  idle\n",
      "devel        up    19  idle\n",
      "mem192       up    90  idle\n",
      "esm          up     6  idle\n",
      "large      down   279  idle\n",
      "gpus         up     0   n/a\n",
      "develgpus    up     8  idle\n",
      "booster      up   345  idle\n",
      "develboos    up     7  idle\n",
      "largeboos    up   345  idle\n",
      "maintclus    up   312  idle\n",
      "maintboos    up   352  idle\n",
      "maint        up   664  idle\n"
     ]
    }
   ],
   "source": [
    "%%bash\n",
    "sinfo -t idle --format=\"%9P %.5a %.5D %.5t\""
   ]
  },
  {
   "cell_type": "markdown",
   "metadata": {},
   "source": [
    "A more accurate overview on which batch partition to choose for the Dask jobqueue cluster can be obtained by submitting `--test-only` requests and by looking at the start date estimates. If the reported date is very, very close to the current date it can be expected that a Dask cluster as specified in the `test_this_jobqueue_cluster` variable starts-up almost immediately. Note, that on JUWELS `--nodes 3` is the number of Dask jobqueue workers that would be requested by a `cluster.scale(jobs=3)`. Also note, that the scheduler on JUWELS has a backfilling mechanism and that Dask jobqueue workers might start-up after a few minutes, even though the date reported by the `--test-only` requests report otherwise."
   ]
  },
  {
   "cell_type": "code",
   "execution_count": 5,
   "metadata": {},
   "outputs": [
    {
     "name": "stdout",
     "output_type": "stream",
     "text": [
      "Thu Jan  7 17:10:37 CET 2021\n"
     ]
    },
    {
     "name": "stderr",
     "output_type": "stream",
     "text": [
      "sbatch: Job 3256240 to start at 2021-01-07T17:57:38 using 288 processors on nodes jwc03n[130-132] in partition batch\n",
      "sbatch: Job 3256241 to start at 2021-01-07T17:10:38 using 288 processors on nodes jwc00n[016-018] in partition devel\n",
      "sbatch: Job 3256242 to start at 2021-01-07T17:10:38 using 288 processors on nodes jwc08n[075-077] in partition mem192\n",
      "sbatch: Job 3256243 to start at 2021-01-07T17:10:38 using 288 processors on nodes jwc00n[000,003,006] in partition esm\n",
      "sbatch: Job 3256244 to start at 2021-01-07T17:10:39 using 288 processors on nodes jwc03n[130-132] in partition large\n",
      "allocation failure: Invalid generic resource (gres) specification\n",
      "allocation failure: Invalid generic resource (gres) specification\n",
      "allocation failure: Invalid generic resource (gres) specification\n",
      "allocation failure: Invalid generic resource (gres) specification\n",
      "allocation failure: Invalid generic resource (gres) specification\n",
      "allocation failure: Invalid account or account/partition combination specified\n",
      "allocation failure: Invalid generic resource (gres) specification\n",
      "allocation failure: Invalid account or account/partition combination specified\n"
     ]
    }
   ],
   "source": [
    "%%bash\n",
    "\n",
    "test_jobqueue_cluster='--nodes 3 --time 00:15:00 --account esmtst --cpus-per-task=96 --mem=85G'\n",
    "\n",
    "date && scontrol show partition | grep PartitionName | cut -f2 -d\"=\" | \\\n",
    "xargs -I {} bash -c \"sbatch --test-only ${test_jobqueue_cluster} --partition {} --wrap 'echo $HOST'\"\n",
    "printf \"\" # prevent display of xargs non-zero exit codes..."
   ]
  },
  {
   "cell_type": "markdown",
   "metadata": {},
   "source": [
    "## Set up jobqueue cluster ..."
   ]
  },
  {
   "cell_type": "code",
   "execution_count": 6,
   "metadata": {},
   "outputs": [],
   "source": [
    "jobqueue_cluster = dask_jobqueue.SLURMCluster(\n",
    "    config_name='juwels-jobqueue-config',\n",
    "    project='esmtst', # specify budget name associated with your project\n",
    "    queue='devel', # choose batch partition by available resources\n",
    ")"
   ]
  },
  {
   "cell_type": "code",
   "execution_count": 7,
   "metadata": {},
   "outputs": [
    {
     "name": "stdout",
     "output_type": "stream",
     "text": [
      "#!/usr/bin/env bash\n",
      "\n",
      "#SBATCH -J dask-worker\n",
      "#SBATCH -e dask_jobqueue_logs/dask-worker-%J.err\n",
      "#SBATCH -o dask_jobqueue_logs/dask-worker-%J.out\n",
      "#SBATCH -p devel\n",
      "#SBATCH -A esmtst\n",
      "#SBATCH -n 1\n",
      "#SBATCH --cpus-per-task=96\n",
      "#SBATCH --mem=85G\n",
      "#SBATCH -t 00:15:00\n",
      "export DASK_DISTRIBUTED__WORKER__MEMORY__SPILL=False\n",
      "export DASK_DISTRIBUTED__WORKER__MEMORY__TARGET=False\n",
      "export DASK_DISTRIBUTED__WORKER__MEMORY__PAUSE=0.8\n",
      "export DASK_DISTRIBUTED__WORKER__MEMORY__TERMINATE=0.9\n",
      "/p/project/cesmtst/hoeflich1/miniconda3/bin/python -m distributed.cli.dask_worker tcp://10.13.0.158:35955 --nthreads 96 --memory-limit 91.08GB --name dummy-name --nanny --death-timeout 60 --interface ib0 --protocol tcp://\n",
      "\n"
     ]
    }
   ],
   "source": [
    "print(jobqueue_cluster.job_script())"
   ]
  },
  {
   "cell_type": "markdown",
   "metadata": {},
   "source": [
    "## ... and the client process"
   ]
  },
  {
   "cell_type": "code",
   "execution_count": 8,
   "metadata": {},
   "outputs": [],
   "source": [
    "client = dask_distributed.Client(jobqueue_cluster)"
   ]
  },
  {
   "cell_type": "markdown",
   "metadata": {},
   "source": [
    "## Start jobqueue workers"
   ]
  },
  {
   "cell_type": "code",
   "execution_count": 9,
   "metadata": {},
   "outputs": [],
   "source": [
    "jobqueue_cluster.scale(jobs=3)"
   ]
  },
  {
   "cell_type": "code",
   "execution_count": 13,
   "metadata": {},
   "outputs": [
    {
     "name": "stdout",
     "output_type": "stream",
     "text": [
      "             JOBID PARTITION     NAME     USER ST       TIME  NODES NODELIST(REASON)\n",
      "           3256247     devel dask-wor hoeflich  R       0:11      1 jwc00n004\n",
      "           3256248     devel dask-wor hoeflich  R       0:11      1 jwc00n005\n",
      "           3256246     devel dask-wor hoeflich  R       0:15      1 jwc00n002\n"
     ]
    }
   ],
   "source": [
    "!squeue -u hoeflich1"
   ]
  },
  {
   "cell_type": "code",
   "execution_count": 15,
   "metadata": {},
   "outputs": [
    {
     "data": {
      "text/html": [
       "<table style=\"border: 2px solid white;\">\n",
       "<tr>\n",
       "<td style=\"vertical-align: top; border: 0px solid white\">\n",
       "<h3 style=\"text-align: left;\">Client</h3>\n",
       "<ul style=\"text-align: left; list-style: none; margin: 0; padding: 0;\">\n",
       "  <li><b>Scheduler: </b>tcp://10.13.0.158:35955</li>\n",
       "  <li><b>Dashboard: </b><a href='http://10.13.0.158:8787/status' target='_blank'>http://10.13.0.158:8787/status</a></li>\n",
       "</ul>\n",
       "</td>\n",
       "<td style=\"vertical-align: top; border: 0px solid white\">\n",
       "<h3 style=\"text-align: left;\">Cluster</h3>\n",
       "<ul style=\"text-align: left; list-style:none; margin: 0; padding: 0;\">\n",
       "  <li><b>Workers: </b>3</li>\n",
       "  <li><b>Cores: </b>288</li>\n",
       "  <li><b>Memory: </b>273.24 GB</li>\n",
       "</ul>\n",
       "</td>\n",
       "</tr>\n",
       "</table>"
      ],
      "text/plain": [
       "<Client: 'tcp://10.13.0.158:35955' processes=3 threads=288, memory=273.24 GB>"
      ]
     },
     "execution_count": 15,
     "metadata": {},
     "output_type": "execute_result"
    }
   ],
   "source": [
    "client"
   ]
  },
  {
   "cell_type": "markdown",
   "metadata": {},
   "source": [
    "## Do calculation on larger than memory data"
   ]
  },
  {
   "cell_type": "code",
   "execution_count": 16,
   "metadata": {},
   "outputs": [],
   "source": [
    "import dask.array as da"
   ]
  },
  {
   "cell_type": "code",
   "execution_count": 17,
   "metadata": {},
   "outputs": [
    {
     "data": {
      "text/html": [
       "<table>\n",
       "<tr>\n",
       "<td>\n",
       "<table>\n",
       "  <thead>\n",
       "    <tr><td> </td><th> Array </th><th> Chunk </th></tr>\n",
       "  </thead>\n",
       "  <tbody>\n",
       "    <tr><th> Bytes </th><td> 292.00 GB </td> <td> 730.00 MB </td></tr>\n",
       "    <tr><th> Shape </th><td> (365, 10000, 10000) </td> <td> (365, 500, 500) </td></tr>\n",
       "    <tr><th> Count </th><td> 400 Tasks </td><td> 400 Chunks </td></tr>\n",
       "    <tr><th> Type </th><td> float64 </td><td> numpy.ndarray </td></tr>\n",
       "  </tbody>\n",
       "</table>\n",
       "</td>\n",
       "<td>\n",
       "<svg width=\"199\" height=\"189\" style=\"stroke:rgb(0,0,0);stroke-width:1\" >\n",
       "\n",
       "  <!-- Horizontal lines -->\n",
       "  <line x1=\"10\" y1=\"0\" x2=\"29\" y2=\"19\" style=\"stroke-width:2\" />\n",
       "  <line x1=\"10\" y1=\"6\" x2=\"29\" y2=\"25\" />\n",
       "  <line x1=\"10\" y1=\"12\" x2=\"29\" y2=\"31\" />\n",
       "  <line x1=\"10\" y1=\"18\" x2=\"29\" y2=\"37\" />\n",
       "  <line x1=\"10\" y1=\"24\" x2=\"29\" y2=\"43\" />\n",
       "  <line x1=\"10\" y1=\"30\" x2=\"29\" y2=\"49\" />\n",
       "  <line x1=\"10\" y1=\"36\" x2=\"29\" y2=\"55\" />\n",
       "  <line x1=\"10\" y1=\"42\" x2=\"29\" y2=\"61\" />\n",
       "  <line x1=\"10\" y1=\"48\" x2=\"29\" y2=\"67\" />\n",
       "  <line x1=\"10\" y1=\"54\" x2=\"29\" y2=\"73\" />\n",
       "  <line x1=\"10\" y1=\"60\" x2=\"29\" y2=\"79\" />\n",
       "  <line x1=\"10\" y1=\"66\" x2=\"29\" y2=\"85\" />\n",
       "  <line x1=\"10\" y1=\"72\" x2=\"29\" y2=\"91\" />\n",
       "  <line x1=\"10\" y1=\"78\" x2=\"29\" y2=\"97\" />\n",
       "  <line x1=\"10\" y1=\"84\" x2=\"29\" y2=\"103\" />\n",
       "  <line x1=\"10\" y1=\"90\" x2=\"29\" y2=\"109\" />\n",
       "  <line x1=\"10\" y1=\"96\" x2=\"29\" y2=\"115\" />\n",
       "  <line x1=\"10\" y1=\"102\" x2=\"29\" y2=\"121\" />\n",
       "  <line x1=\"10\" y1=\"108\" x2=\"29\" y2=\"127\" />\n",
       "  <line x1=\"10\" y1=\"120\" x2=\"29\" y2=\"139\" style=\"stroke-width:2\" />\n",
       "\n",
       "  <!-- Vertical lines -->\n",
       "  <line x1=\"10\" y1=\"0\" x2=\"10\" y2=\"120\" style=\"stroke-width:2\" />\n",
       "  <line x1=\"29\" y1=\"19\" x2=\"29\" y2=\"139\" style=\"stroke-width:2\" />\n",
       "\n",
       "  <!-- Colored Rectangle -->\n",
       "  <polygon points=\"10.0,0.0 29.16180906316908,19.16180906316908 29.16180906316908,139.16180906316907 10.0,120.0\" style=\"fill:#8B4903A0;stroke-width:0\"/>\n",
       "\n",
       "  <!-- Horizontal lines -->\n",
       "  <line x1=\"10\" y1=\"0\" x2=\"130\" y2=\"0\" style=\"stroke-width:2\" />\n",
       "  <line x1=\"29\" y1=\"19\" x2=\"149\" y2=\"19\" style=\"stroke-width:2\" />\n",
       "\n",
       "  <!-- Vertical lines -->\n",
       "  <line x1=\"10\" y1=\"0\" x2=\"29\" y2=\"19\" style=\"stroke-width:2\" />\n",
       "  <line x1=\"16\" y1=\"0\" x2=\"35\" y2=\"19\" />\n",
       "  <line x1=\"22\" y1=\"0\" x2=\"41\" y2=\"19\" />\n",
       "  <line x1=\"28\" y1=\"0\" x2=\"47\" y2=\"19\" />\n",
       "  <line x1=\"34\" y1=\"0\" x2=\"53\" y2=\"19\" />\n",
       "  <line x1=\"40\" y1=\"0\" x2=\"59\" y2=\"19\" />\n",
       "  <line x1=\"46\" y1=\"0\" x2=\"65\" y2=\"19\" />\n",
       "  <line x1=\"52\" y1=\"0\" x2=\"71\" y2=\"19\" />\n",
       "  <line x1=\"58\" y1=\"0\" x2=\"77\" y2=\"19\" />\n",
       "  <line x1=\"64\" y1=\"0\" x2=\"83\" y2=\"19\" />\n",
       "  <line x1=\"70\" y1=\"0\" x2=\"89\" y2=\"19\" />\n",
       "  <line x1=\"76\" y1=\"0\" x2=\"95\" y2=\"19\" />\n",
       "  <line x1=\"82\" y1=\"0\" x2=\"101\" y2=\"19\" />\n",
       "  <line x1=\"88\" y1=\"0\" x2=\"107\" y2=\"19\" />\n",
       "  <line x1=\"94\" y1=\"0\" x2=\"113\" y2=\"19\" />\n",
       "  <line x1=\"100\" y1=\"0\" x2=\"119\" y2=\"19\" />\n",
       "  <line x1=\"106\" y1=\"0\" x2=\"125\" y2=\"19\" />\n",
       "  <line x1=\"112\" y1=\"0\" x2=\"131\" y2=\"19\" />\n",
       "  <line x1=\"118\" y1=\"0\" x2=\"137\" y2=\"19\" />\n",
       "  <line x1=\"130\" y1=\"0\" x2=\"149\" y2=\"19\" style=\"stroke-width:2\" />\n",
       "\n",
       "  <!-- Colored Rectangle -->\n",
       "  <polygon points=\"10.0,0.0 130.0,0.0 149.16180906316907,19.16180906316908 29.16180906316908,19.16180906316908\" style=\"fill:#8B4903A0;stroke-width:0\"/>\n",
       "\n",
       "  <!-- Horizontal lines -->\n",
       "  <line x1=\"29\" y1=\"19\" x2=\"149\" y2=\"19\" style=\"stroke-width:2\" />\n",
       "  <line x1=\"29\" y1=\"25\" x2=\"149\" y2=\"25\" />\n",
       "  <line x1=\"29\" y1=\"31\" x2=\"149\" y2=\"31\" />\n",
       "  <line x1=\"29\" y1=\"37\" x2=\"149\" y2=\"37\" />\n",
       "  <line x1=\"29\" y1=\"43\" x2=\"149\" y2=\"43\" />\n",
       "  <line x1=\"29\" y1=\"49\" x2=\"149\" y2=\"49\" />\n",
       "  <line x1=\"29\" y1=\"55\" x2=\"149\" y2=\"55\" />\n",
       "  <line x1=\"29\" y1=\"61\" x2=\"149\" y2=\"61\" />\n",
       "  <line x1=\"29\" y1=\"67\" x2=\"149\" y2=\"67\" />\n",
       "  <line x1=\"29\" y1=\"73\" x2=\"149\" y2=\"73\" />\n",
       "  <line x1=\"29\" y1=\"79\" x2=\"149\" y2=\"79\" />\n",
       "  <line x1=\"29\" y1=\"85\" x2=\"149\" y2=\"85\" />\n",
       "  <line x1=\"29\" y1=\"91\" x2=\"149\" y2=\"91\" />\n",
       "  <line x1=\"29\" y1=\"97\" x2=\"149\" y2=\"97\" />\n",
       "  <line x1=\"29\" y1=\"103\" x2=\"149\" y2=\"103\" />\n",
       "  <line x1=\"29\" y1=\"109\" x2=\"149\" y2=\"109\" />\n",
       "  <line x1=\"29\" y1=\"115\" x2=\"149\" y2=\"115\" />\n",
       "  <line x1=\"29\" y1=\"121\" x2=\"149\" y2=\"121\" />\n",
       "  <line x1=\"29\" y1=\"127\" x2=\"149\" y2=\"127\" />\n",
       "  <line x1=\"29\" y1=\"139\" x2=\"149\" y2=\"139\" style=\"stroke-width:2\" />\n",
       "\n",
       "  <!-- Vertical lines -->\n",
       "  <line x1=\"29\" y1=\"19\" x2=\"29\" y2=\"139\" style=\"stroke-width:2\" />\n",
       "  <line x1=\"35\" y1=\"19\" x2=\"35\" y2=\"139\" />\n",
       "  <line x1=\"41\" y1=\"19\" x2=\"41\" y2=\"139\" />\n",
       "  <line x1=\"47\" y1=\"19\" x2=\"47\" y2=\"139\" />\n",
       "  <line x1=\"53\" y1=\"19\" x2=\"53\" y2=\"139\" />\n",
       "  <line x1=\"59\" y1=\"19\" x2=\"59\" y2=\"139\" />\n",
       "  <line x1=\"65\" y1=\"19\" x2=\"65\" y2=\"139\" />\n",
       "  <line x1=\"71\" y1=\"19\" x2=\"71\" y2=\"139\" />\n",
       "  <line x1=\"77\" y1=\"19\" x2=\"77\" y2=\"139\" />\n",
       "  <line x1=\"83\" y1=\"19\" x2=\"83\" y2=\"139\" />\n",
       "  <line x1=\"89\" y1=\"19\" x2=\"89\" y2=\"139\" />\n",
       "  <line x1=\"95\" y1=\"19\" x2=\"95\" y2=\"139\" />\n",
       "  <line x1=\"101\" y1=\"19\" x2=\"101\" y2=\"139\" />\n",
       "  <line x1=\"107\" y1=\"19\" x2=\"107\" y2=\"139\" />\n",
       "  <line x1=\"113\" y1=\"19\" x2=\"113\" y2=\"139\" />\n",
       "  <line x1=\"119\" y1=\"19\" x2=\"119\" y2=\"139\" />\n",
       "  <line x1=\"125\" y1=\"19\" x2=\"125\" y2=\"139\" />\n",
       "  <line x1=\"131\" y1=\"19\" x2=\"131\" y2=\"139\" />\n",
       "  <line x1=\"137\" y1=\"19\" x2=\"137\" y2=\"139\" />\n",
       "  <line x1=\"149\" y1=\"19\" x2=\"149\" y2=\"139\" style=\"stroke-width:2\" />\n",
       "\n",
       "  <!-- Colored Rectangle -->\n",
       "  <polygon points=\"29.16180906316908,19.16180906316908 149.16180906316907,19.16180906316908 149.16180906316907,139.16180906316907 29.16180906316908,139.16180906316907\" style=\"fill:#8B4903A0;stroke-width:0\"/>\n",
       "\n",
       "  <!-- Text -->\n",
       "  <text x=\"89.161809\" y=\"159.161809\" font-size=\"1.0rem\" font-weight=\"100\" text-anchor=\"middle\" >10000</text>\n",
       "  <text x=\"169.161809\" y=\"79.161809\" font-size=\"1.0rem\" font-weight=\"100\" text-anchor=\"middle\" transform=\"rotate(-90,169.161809,79.161809)\">10000</text>\n",
       "  <text x=\"9.580905\" y=\"149.580905\" font-size=\"1.0rem\" font-weight=\"100\" text-anchor=\"middle\" transform=\"rotate(45,9.580905,149.580905)\">365</text>\n",
       "</svg>\n",
       "</td>\n",
       "</tr>\n",
       "</table>"
      ],
      "text/plain": [
       "dask.array<uniform, shape=(365, 10000, 10000), dtype=float64, chunksize=(365, 500, 500), chunktype=numpy.ndarray>"
      ]
     },
     "execution_count": 17,
     "metadata": {},
     "output_type": "execute_result"
    }
   ],
   "source": [
    "fake_data = da.random.uniform(0, 1, size=(365, 1e4, 1e4), chunks=(365,500,500)) # problem specific chunking\n",
    "fake_data"
   ]
  },
  {
   "cell_type": "code",
   "execution_count": 18,
   "metadata": {},
   "outputs": [],
   "source": [
    "import time"
   ]
  },
  {
   "cell_type": "code",
   "execution_count": 19,
   "metadata": {},
   "outputs": [
    {
     "name": "stdout",
     "output_type": "stream",
     "text": [
      "elapse time  5.86717677116394  in seconds\n"
     ]
    }
   ],
   "source": [
    "start_time = time.time()\n",
    "fake_data.mean(axis=0).compute()\n",
    "elapsed = time.time() - start_time\n",
    "print('elapse time ',elapsed,' in seconds')"
   ]
  },
  {
   "cell_type": "markdown",
   "metadata": {},
   "source": [
    "## Close jobqueue cluster and client process"
   ]
  },
  {
   "cell_type": "code",
   "execution_count": 20,
   "metadata": {},
   "outputs": [
    {
     "name": "stdout",
     "output_type": "stream",
     "text": [
      "             JOBID PARTITION     NAME     USER ST       TIME  NODES NODELIST(REASON)\n",
      "           3256247     devel dask-wor hoeflich  R       0:42      1 jwc00n004\n",
      "           3256248     devel dask-wor hoeflich  R       0:42      1 jwc00n005\n",
      "           3256246     devel dask-wor hoeflich  R       0:46      1 jwc00n002\n"
     ]
    }
   ],
   "source": [
    "!squeue -u hoeflich1"
   ]
  },
  {
   "cell_type": "code",
   "execution_count": 21,
   "metadata": {},
   "outputs": [],
   "source": [
    "jobqueue_cluster.close()\n",
    "client.close()"
   ]
  },
  {
   "cell_type": "code",
   "execution_count": 23,
   "metadata": {},
   "outputs": [
    {
     "name": "stdout",
     "output_type": "stream",
     "text": [
      "             JOBID PARTITION     NAME     USER ST       TIME  NODES NODELIST(REASON)\n"
     ]
    }
   ],
   "source": [
    "!squeue -u hoeflich1"
   ]
  },
  {
   "cell_type": "markdown",
   "metadata": {},
   "source": [
    "## Conda environment"
   ]
  },
  {
   "cell_type": "code",
   "execution_count": 24,
   "metadata": {},
   "outputs": [
    {
     "name": "stdout",
     "output_type": "stream",
     "text": [
      "# This file may be used to create an environment using:\n",
      "# $ conda create --name <env> --file <this file>\n",
      "# platform: linux-64\n",
      "@EXPLICIT\n",
      "https://repo.anaconda.com/pkgs/main/linux-64/_libgcc_mutex-0.1-main.conda\n",
      "https://conda.anaconda.org/conda-forge/linux-64/ca-certificates-2020.12.5-ha878542_0.tar.bz2\n",
      "https://repo.anaconda.com/pkgs/main/linux-64/ld_impl_linux-64-2.33.1-h53a641e_7.conda\n",
      "https://conda.anaconda.org/conda-forge/linux-64/libgfortran4-7.5.0-hae1eefd_17.tar.bz2\n",
      "https://repo.anaconda.com/pkgs/main/linux-64/libstdcxx-ng-9.1.0-hdf63c60_0.conda\n",
      "https://conda.anaconda.org/conda-forge/linux-64/pandoc-2.11.3.2-h7f98852_0.tar.bz2\n",
      "https://repo.anaconda.com/pkgs/main/linux-64/libgcc-ng-9.1.0-hdf63c60_0.conda\n",
      "https://conda.anaconda.org/conda-forge/linux-64/libgfortran-ng-7.5.0-hae1eefd_17.tar.bz2\n",
      "https://conda.anaconda.org/conda-forge/linux-64/jpeg-9d-h36c2ea0_0.tar.bz2\n",
      "https://repo.anaconda.com/pkgs/main/linux-64/libffi-3.3-he6710b0_2.conda\n",
      "https://conda.anaconda.org/conda-forge/linux-64/libopenblas-0.3.12-pthreads_hb3c22a3_1.tar.bz2\n",
      "https://conda.anaconda.org/conda-forge/linux-64/libsodium-1.0.18-h36c2ea0_1.tar.bz2\n",
      "https://conda.anaconda.org/conda-forge/linux-64/lz4-c-1.9.2-he1b5a44_3.tar.bz2\n",
      "https://repo.anaconda.com/pkgs/main/linux-64/ncurses-6.2-he6710b0_1.conda\n",
      "https://repo.anaconda.com/pkgs/main/linux-64/openssl-1.1.1i-h27cfd23_0.conda\n",
      "https://repo.anaconda.com/pkgs/main/linux-64/xz-5.2.5-h7b6447c_0.conda\n",
      "https://repo.anaconda.com/pkgs/main/linux-64/yaml-0.2.5-h7b6447c_0.conda\n",
      "https://repo.anaconda.com/pkgs/main/linux-64/zlib-1.2.11-h7b6447c_3.conda\n",
      "https://conda.anaconda.org/conda-forge/linux-64/libblas-3.9.0-7_openblas.tar.bz2\n",
      "https://repo.anaconda.com/pkgs/main/linux-64/libedit-3.1.20191231-h14c3975_1.conda\n",
      "https://conda.anaconda.org/conda-forge/linux-64/libpng-1.6.37-h21135ba_2.tar.bz2\n",
      "https://repo.anaconda.com/pkgs/main/linux-64/readline-8.0-h7b6447c_0.conda\n",
      "https://repo.anaconda.com/pkgs/main/linux-64/tk-8.6.10-hbc83047_0.conda\n",
      "https://conda.anaconda.org/conda-forge/linux-64/zeromq-4.3.3-h58526e2_3.tar.bz2\n",
      "https://repo.anaconda.com/pkgs/main/linux-64/zstd-1.4.5-h9ceee32_0.conda\n",
      "https://conda.anaconda.org/conda-forge/linux-64/freetype-2.10.4-h7ca028e_0.tar.bz2\n",
      "https://conda.anaconda.org/conda-forge/linux-64/libcblas-3.9.0-7_openblas.tar.bz2\n",
      "https://conda.anaconda.org/conda-forge/linux-64/liblapack-3.9.0-7_openblas.tar.bz2\n",
      "https://repo.anaconda.com/pkgs/main/linux-64/libtiff-4.1.0-h2733197_1.conda\n",
      "https://repo.anaconda.com/pkgs/main/linux-64/sqlite-3.33.0-h62c20be_0.conda\n",
      "https://conda.anaconda.org/conda-forge/linux-64/lcms2-2.11-hcbb858e_1.tar.bz2\n",
      "https://repo.anaconda.com/pkgs/main/linux-64/python-3.8.5-h7579374_1.conda\n",
      "https://conda.anaconda.org/conda-forge/noarch/async_generator-1.10-py_0.tar.bz2\n",
      "https://conda.anaconda.org/conda-forge/noarch/attrs-20.3.0-pyhd3deb0d_0.tar.bz2\n",
      "https://conda.anaconda.org/conda-forge/noarch/backcall-0.2.0-pyh9f0ad1d_0.tar.bz2\n",
      "https://conda.anaconda.org/conda-forge/noarch/backports-1.0-py_2.tar.bz2\n",
      "https://repo.anaconda.com/pkgs/main/linux-64/chardet-3.0.4-py38h06a4308_1003.conda\n",
      "https://conda.anaconda.org/conda-forge/noarch/click-7.1.2-pyh9f0ad1d_0.tar.bz2\n",
      "https://conda.anaconda.org/conda-forge/noarch/cloudpickle-1.6.0-py_0.tar.bz2\n",
      "https://conda.anaconda.org/conda-forge/noarch/decorator-4.4.2-py_0.tar.bz2\n",
      "https://conda.anaconda.org/conda-forge/noarch/defusedxml-0.6.0-py_0.tar.bz2\n",
      "https://conda.anaconda.org/conda-forge/noarch/entrypoints-0.3-pyhd8ed1ab_1003.tar.bz2\n",
      "https://conda.anaconda.org/conda-forge/noarch/fsspec-0.8.5-pyhd8ed1ab_0.tar.bz2\n",
      "https://conda.anaconda.org/conda-forge/noarch/heapdict-1.0.1-py_0.tar.bz2\n",
      "https://repo.anaconda.com/pkgs/main/noarch/idna-2.10-py_0.conda\n",
      "https://conda.anaconda.org/conda-forge/noarch/ipython_genutils-0.2.0-py_1.tar.bz2\n",
      "https://conda.anaconda.org/conda-forge/noarch/json5-0.9.5-pyh9f0ad1d_0.tar.bz2\n",
      "https://conda.anaconda.org/conda-forge/noarch/locket-0.2.0-py_2.tar.bz2\n",
      "https://repo.anaconda.com/pkgs/main/linux-64/msgpack-python-1.0.1-py38hff7bd54_0.conda\n",
      "https://conda.anaconda.org/conda-forge/noarch/nest-asyncio-1.4.3-pyhd8ed1ab_0.tar.bz2\n",
      "https://conda.anaconda.org/conda-forge/noarch/olefile-0.46-pyh9f0ad1d_1.tar.bz2\n",
      "https://conda.anaconda.org/conda-forge/noarch/pandocfilters-1.4.2-py_1.tar.bz2\n",
      "https://conda.anaconda.org/conda-forge/noarch/parso-0.8.1-pyhd8ed1ab_0.tar.bz2\n",
      "https://conda.anaconda.org/conda-forge/noarch/pickleshare-0.7.5-py_1003.tar.bz2\n",
      "https://conda.anaconda.org/conda-forge/noarch/prometheus_client-0.9.0-pyhd3deb0d_0.tar.bz2\n",
      "https://repo.anaconda.com/pkgs/main/linux-64/psutil-5.7.2-py38h7b6447c_0.conda\n",
      "https://conda.anaconda.org/conda-forge/noarch/ptyprocess-0.7.0-pyhd3deb0d_0.tar.bz2\n",
      "https://repo.anaconda.com/pkgs/main/linux-64/pycosat-0.6.3-py38h7b6447c_1.conda\n",
      "https://repo.anaconda.com/pkgs/main/noarch/pycparser-2.20-py_2.conda\n",
      "https://conda.anaconda.org/conda-forge/noarch/pyparsing-2.4.7-pyh9f0ad1d_0.tar.bz2\n",
      "https://repo.anaconda.com/pkgs/main/linux-64/pysocks-1.7.1-py38h06a4308_0.conda\n",
      "https://conda.anaconda.org/conda-forge/linux-64/python_abi-3.8-1_cp38.tar.bz2\n",
      "https://conda.anaconda.org/conda-forge/noarch/pytz-2020.5-pyhd8ed1ab_0.tar.bz2\n",
      "https://repo.anaconda.com/pkgs/main/linux-64/ruamel_yaml-0.15.87-py38h7b6447c_1.conda\n",
      "https://conda.anaconda.org/conda-forge/noarch/send2trash-1.5.0-py_0.tar.bz2\n",
      "https://repo.anaconda.com/pkgs/main/linux-64/six-1.15.0-py38h06a4308_0.conda\n",
      "https://conda.anaconda.org/conda-forge/noarch/sortedcontainers-2.3.0-pyhd8ed1ab_0.tar.bz2\n",
      "https://conda.anaconda.org/conda-forge/noarch/tblib-1.6.0-py_0.tar.bz2\n",
      "https://conda.anaconda.org/conda-forge/noarch/testpath-0.4.4-py_0.tar.bz2\n",
      "https://conda.anaconda.org/conda-forge/noarch/toolz-0.11.1-py_0.tar.bz2\n",
      "https://repo.anaconda.com/pkgs/main/noarch/tqdm-4.51.0-pyhd3eb1b0_0.conda\n",
      "https://conda.anaconda.org/conda-forge/noarch/typing_extensions-3.7.4.3-py_0.tar.bz2\n",
      "https://conda.anaconda.org/conda-forge/noarch/webencodings-0.5.1-py_1.tar.bz2\n",
      "https://repo.anaconda.com/pkgs/main/noarch/wheel-0.35.1-pyhd3eb1b0_0.conda\n",
      "https://conda.anaconda.org/conda-forge/noarch/zipp-3.4.0-py_0.tar.bz2\n",
      "https://conda.anaconda.org/conda-forge/noarch/babel-2.9.0-pyhd3deb0d_0.tar.bz2\n",
      "https://conda.anaconda.org/conda-forge/linux-64/certifi-2020.12.5-py38h578d9bd_1.tar.bz2\n",
      "https://repo.anaconda.com/pkgs/main/linux-64/cffi-1.14.3-py38h261ae71_2.conda\n",
      "https://repo.anaconda.com/pkgs/main/linux-64/conda-package-handling-1.7.2-py38h03888b9_0.conda\n",
      "https://conda.anaconda.org/conda-forge/linux-64/cytoolz-0.11.0-py38h25fe258_1.tar.bz2\n",
      "https://conda.anaconda.org/conda-forge/linux-64/importlib-metadata-3.3.0-py38h578d9bd_2.tar.bz2\n",
      "https://conda.anaconda.org/conda-forge/linux-64/jedi-0.18.0-py38h578d9bd_1.tar.bz2\n",
      "https://conda.anaconda.org/conda-forge/linux-64/markupsafe-1.1.1-py38h8df0ef7_2.tar.bz2\n",
      "https://conda.anaconda.org/conda-forge/linux-64/mistune-0.8.4-py38h25fe258_1002.tar.bz2\n",
      "https://conda.anaconda.org/conda-forge/linux-64/numpy-1.18.5-py38h8854b6b_0.tar.bz2\n",
      "https://conda.anaconda.org/conda-forge/noarch/packaging-20.8-pyhd3deb0d_0.tar.bz2\n",
      "https://conda.anaconda.org/conda-forge/noarch/partd-1.1.0-py_0.tar.bz2\n",
      "https://conda.anaconda.org/conda-forge/noarch/pexpect-4.8.0-pyh9f0ad1d_2.tar.bz2\n",
      "https://conda.anaconda.org/conda-forge/linux-64/pillow-7.2.0-py38h9776b28_2.tar.bz2\n",
      "https://conda.anaconda.org/conda-forge/linux-64/pyrsistent-0.17.3-py38h25fe258_1.tar.bz2\n",
      "https://conda.anaconda.org/conda-forge/noarch/python-dateutil-2.8.1-py_0.tar.bz2\n",
      "https://conda.anaconda.org/conda-forge/linux-64/pyyaml-5.3.1-py38h8df0ef7_1.tar.bz2\n",
      "https://conda.anaconda.org/conda-forge/linux-64/pyzmq-20.0.0-py38h1d1b12f_1.tar.bz2\n",
      "https://conda.anaconda.org/conda-forge/linux-64/sniffio-1.2.0-py38h578d9bd_0.tar.bz2\n",
      "https://conda.anaconda.org/conda-forge/linux-64/tornado-6.1-py38h25fe258_0.tar.bz2\n",
      "https://conda.anaconda.org/conda-forge/noarch/traitlets-5.0.5-py_0.tar.bz2\n",
      "https://conda.anaconda.org/conda-forge/noarch/zict-2.0.0-py_0.tar.bz2\n",
      "https://conda.anaconda.org/conda-forge/linux-64/anyio-2.0.2-py38h578d9bd_3.tar.bz2\n",
      "https://conda.anaconda.org/conda-forge/linux-64/argon2-cffi-20.1.0-py38h25fe258_2.tar.bz2\n",
      "https://repo.anaconda.com/pkgs/main/linux-64/brotlipy-0.7.0-py38h27cfd23_1003.conda\n",
      "https://repo.anaconda.com/pkgs/main/linux-64/cryptography-3.2.1-py38h3c74f83_1.conda\n",
      "https://conda.anaconda.org/conda-forge/noarch/dask-core-2020.12.0-pyhd8ed1ab_0.tar.bz2\n",
      "https://conda.anaconda.org/conda-forge/noarch/importlib_metadata-3.3.0-hd8ed1ab_2.tar.bz2\n",
      "https://conda.anaconda.org/conda-forge/linux-64/jupyter_core-4.7.0-py38h578d9bd_0.tar.bz2\n",
      "https://conda.anaconda.org/conda-forge/linux-64/pandas-1.1.4-py38h0ef3d22_0.tar.bz2\n",
      "https://repo.anaconda.com/pkgs/main/linux-64/setuptools-50.3.1-py38h06a4308_1.conda\n",
      "https://conda.anaconda.org/conda-forge/linux-64/terminado-0.9.2-py38h578d9bd_0.tar.bz2\n",
      "https://conda.anaconda.org/conda-forge/noarch/backports.functools_lru_cache-1.6.1-py_0.tar.bz2\n",
      "https://conda.anaconda.org/conda-forge/noarch/bleach-3.2.1-pyh9f0ad1d_0.tar.bz2\n",
      "https://conda.anaconda.org/conda-forge/linux-64/distributed-2020.12.0-py38h578d9bd_0.tar.bz2\n",
      "https://conda.anaconda.org/conda-forge/noarch/jinja2-2.11.2-pyh9f0ad1d_0.tar.bz2\n",
      "https://conda.anaconda.org/conda-forge/noarch/jsonschema-3.2.0-py_2.tar.bz2\n",
      "https://conda.anaconda.org/conda-forge/noarch/jupyter_client-6.1.7-py_0.tar.bz2\n",
      "https://repo.anaconda.com/pkgs/main/linux-64/pip-20.2.4-py38h06a4308_0.conda\n",
      "https://conda.anaconda.org/conda-forge/noarch/pygments-2.7.3-pyhd8ed1ab_0.tar.bz2\n",
      "https://repo.anaconda.com/pkgs/main/noarch/pyopenssl-19.1.0-pyhd3eb1b0_1.conda\n",
      "https://conda.anaconda.org/conda-forge/linux-64/bokeh-2.2.3-py38h578d9bd_0.tar.bz2\n",
      "https://conda.anaconda.org/conda-forge/noarch/dask-jobqueue-0.7.2-pyhd8ed1ab_0.tar.bz2\n",
      "https://conda.anaconda.org/conda-forge/noarch/jupyterlab_pygments-0.1.2-pyh9f0ad1d_0.tar.bz2\n",
      "https://conda.anaconda.org/conda-forge/noarch/nbformat-5.0.8-py_0.tar.bz2\n",
      "https://repo.anaconda.com/pkgs/main/noarch/urllib3-1.25.11-py_0.conda\n",
      "https://conda.anaconda.org/conda-forge/noarch/wcwidth-0.2.5-pyh9f0ad1d_2.tar.bz2\n",
      "https://conda.anaconda.org/conda-forge/noarch/dask-2020.12.0-pyhd8ed1ab_0.tar.bz2\n",
      "https://conda.anaconda.org/conda-forge/noarch/nbclient-0.5.1-py_0.tar.bz2\n",
      "https://conda.anaconda.org/conda-forge/noarch/prompt-toolkit-3.0.9-pyha770c72_0.tar.bz2\n",
      "https://repo.anaconda.com/pkgs/main/noarch/requests-2.24.0-py_0.conda\n",
      "https://conda.anaconda.org/conda-forge/linux-64/conda-4.9.2-py38h578d9bd_0.tar.bz2\n",
      "https://conda.anaconda.org/conda-forge/linux-64/ipython-7.19.0-py38h81c977d_0.tar.bz2\n",
      "https://conda.anaconda.org/conda-forge/linux-64/nbconvert-6.0.7-py38h578d9bd_3.tar.bz2\n",
      "https://conda.anaconda.org/conda-forge/linux-64/ipykernel-5.4.2-py38h81c977d_0.tar.bz2\n",
      "https://conda.anaconda.org/conda-forge/linux-64/jupyter_server-1.1.4-py38h578d9bd_0.tar.bz2\n",
      "https://conda.anaconda.org/conda-forge/noarch/jupyterlab_server-2.0.0-pyhd8ed1ab_0.tar.bz2\n",
      "https://conda.anaconda.org/conda-forge/linux-64/notebook-6.1.6-py38h578d9bd_0.tar.bz2\n",
      "https://conda.anaconda.org/conda-forge/noarch/nbclassic-0.2.5-pyhd8ed1ab_0.tar.bz2\n",
      "https://conda.anaconda.org/conda-forge/noarch/jupyterlab-3.0.1-pyhd8ed1ab_0.tar.bz2\n"
     ]
    }
   ],
   "source": [
    "!conda list --explicit"
   ]
  }
 ],
 "metadata": {
  "kernelspec": {
   "display_name": "Python 3",
   "language": "python",
   "name": "python3"
  },
  "language_info": {
   "codemirror_mode": {
    "name": "ipython",
    "version": 3
   },
   "file_extension": ".py",
   "mimetype": "text/x-python",
   "name": "python",
   "nbconvert_exporter": "python",
   "pygments_lexer": "ipython3",
   "version": "3.8.5"
  }
 },
 "nbformat": 4,
 "nbformat_minor": 4
}
