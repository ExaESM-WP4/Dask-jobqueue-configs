{
 "cells": [
  {
   "cell_type": "markdown",
   "metadata": {},
   "source": [
    "# Dask jobqueue example for JUWELS at JSC\n",
    "covers the following aspects, i.e. how to\n",
    "* add the JUWELS specific Dask jobqueue configuration\n",
    "* get overview on available JUWELS compute node resources\n",
    "* specify batch queue and project budget name\n",
    "* open, scale and close a default jobqueue cluster\n",
    "* do an example calculation on larger than memory data"
   ]
  },
  {
   "cell_type": "code",
   "execution_count": 1,
   "metadata": {},
   "outputs": [],
   "source": [
    "import dask, dask_jobqueue, os\n",
    "import dask.distributed as dask_distributed"
   ]
  },
  {
   "cell_type": "markdown",
   "metadata": {},
   "source": [
    "## Load jobqueue configuration defaults"
   ]
  },
  {
   "cell_type": "code",
   "execution_count": 2,
   "metadata": {},
   "outputs": [],
   "source": [
    "additional_config = dask.config.collect(paths=['.']) # look up further Dask configurations in local directory\n",
    "dask.config.update(dask.config.config, additional_config, priority='new');"
   ]
  },
  {
   "cell_type": "code",
   "execution_count": 3,
   "metadata": {},
   "outputs": [
    {
     "data": {
      "text/plain": [
       "{'cores': 96,\n",
       " 'memory': '90000M',\n",
       " 'processes': 1,\n",
       " 'local-directory': '/tmp',\n",
       " 'death-timeout': 60,\n",
       " 'extra': ['--host ${SLURMD_NODENAME}.ib.juwels.fzj.de'],\n",
       " 'interface': None,\n",
       " 'shebang': '#!/usr/bin/env bash',\n",
       " 'walltime': '00:15:00',\n",
       " 'log-directory': 'dask_jobqueue_logs',\n",
       " 'name': 'dask-worker',\n",
       " 'queue': None,\n",
       " 'project': None,\n",
       " 'job-cpu': None,\n",
       " 'job-mem': None,\n",
       " 'job-extra': [],\n",
       " 'env-extra': []}"
      ]
     },
     "execution_count": 3,
     "metadata": {},
     "output_type": "execute_result"
    }
   ],
   "source": [
    "dask.config.get('jobqueue.juwels-jobqueue-config')"
   ]
  },
  {
   "cell_type": "markdown",
   "metadata": {},
   "source": [
    "## Set up jobqueue cluster ..."
   ]
  },
  {
   "cell_type": "code",
   "execution_count": 4,
   "metadata": {},
   "outputs": [
    {
     "name": "stdout",
     "output_type": "stream",
     "text": [
      "PARTITION AVAIL NODES STATE\n",
      "batch*       up   152  idle\n",
      "devel        up    17  idle\n",
      "mem192       up     9  idle\n",
      "esm          up     5  idle\n",
      "large      down   152  idle\n",
      "gpus         up    17  idle\n",
      "develgpus    up     5  idle\n",
      "maint        up   196  idle\n"
     ]
    }
   ],
   "source": [
    "!sinfo -t idle --format=\"%9P %.5a %.5D %.5t\" # get overview on available resources per queue"
   ]
  },
  {
   "cell_type": "code",
   "execution_count": 5,
   "metadata": {},
   "outputs": [
    {
     "name": "stderr",
     "output_type": "stream",
     "text": [
      "/p/home/jusers/rath1/juwels/PROJECT_training2005/2020-08_dask_intro/miniconda3/envs/py3_dask/lib/python3.7/site-packages/distributed/node.py:155: UserWarning: Port 8787 is already in use.\n",
      "Perhaps you already have a cluster running?\n",
      "Hosting the HTTP server on port 36816 instead\n",
      "  http_address[\"port\"], self.http_server.port\n"
     ]
    }
   ],
   "source": [
    "jobqueue_cluster = dask_jobqueue.SLURMCluster(\n",
    "    config_name='juwels-jobqueue-config',\n",
    "    project='esmtst', # specify budget name associated with project\n",
    "    queue='esm', # choose queue by available resources\n",
    "    scheduler_options={\"host\": os.environ['HOSTNAME']} # globally visible local scheduler network location\n",
    ")"
   ]
  },
  {
   "cell_type": "code",
   "execution_count": 6,
   "metadata": {},
   "outputs": [
    {
     "name": "stdout",
     "output_type": "stream",
     "text": [
      "#!/usr/bin/env bash\n",
      "\n",
      "#SBATCH -J dask-worker\n",
      "#SBATCH -e dask_jobqueue_logs/dask-worker-%J.err\n",
      "#SBATCH -o dask_jobqueue_logs/dask-worker-%J.out\n",
      "#SBATCH -p esm\n",
      "#SBATCH -A esmtst\n",
      "#SBATCH -n 1\n",
      "#SBATCH --cpus-per-task=96\n",
      "#SBATCH --mem=84G\n",
      "#SBATCH -t 00:15:00\n",
      "\n",
      "/p/home/jusers/rath1/juwels/PROJECT_training2005/2020-08_dask_intro/miniconda3/envs/py3_dask/bin/python -m distributed.cli.dask_worker tcp://10.11.159.191:43724 --nthreads 96 --memory-limit 90.00GB --name name --nanny --death-timeout 60 --local-directory /tmp --host ${SLURMD_NODENAME}.ib.juwels.fzj.de\n",
      "\n"
     ]
    }
   ],
   "source": [
    "print(jobqueue_cluster.job_script())"
   ]
  },
  {
   "cell_type": "markdown",
   "metadata": {},
   "source": [
    "## ... and the client process"
   ]
  },
  {
   "cell_type": "code",
   "execution_count": 7,
   "metadata": {},
   "outputs": [],
   "source": [
    "client = dask_distributed.Client(jobqueue_cluster)"
   ]
  },
  {
   "cell_type": "markdown",
   "metadata": {},
   "source": [
    "## Start jobqueue workers"
   ]
  },
  {
   "cell_type": "code",
   "execution_count": 8,
   "metadata": {},
   "outputs": [],
   "source": [
    "jobqueue_cluster.scale(jobs=1)"
   ]
  },
  {
   "cell_type": "code",
   "execution_count": 9,
   "metadata": {},
   "outputs": [
    {
     "name": "stdout",
     "output_type": "stream",
     "text": [
      "             JOBID PARTITION     NAME     USER ST       TIME  NODES NODELIST(REASON)\n",
      "           2524520       esm dask-wor    rath1 CF       0:00      1 jwc00n003\n"
     ]
    }
   ],
   "source": [
    "!squeue -u {os.environ[\"USER\"]}"
   ]
  },
  {
   "cell_type": "code",
   "execution_count": 10,
   "metadata": {},
   "outputs": [
    {
     "data": {
      "text/html": [
       "<table style=\"border: 2px solid white;\">\n",
       "<tr>\n",
       "<td style=\"vertical-align: top; border: 0px solid white\">\n",
       "<h3 style=\"text-align: left;\">Client</h3>\n",
       "<ul style=\"text-align: left; list-style: none; margin: 0; padding: 0;\">\n",
       "  <li><b>Scheduler: </b>tcp://10.11.159.191:43724</li>\n",
       "  <li><b>Dashboard: </b><a href='http://10.11.159.191:36816/status' target='_blank'>http://10.11.159.191:36816/status</a></li>\n",
       "</ul>\n",
       "</td>\n",
       "<td style=\"vertical-align: top; border: 0px solid white\">\n",
       "<h3 style=\"text-align: left;\">Cluster</h3>\n",
       "<ul style=\"text-align: left; list-style:none; margin: 0; padding: 0;\">\n",
       "  <li><b>Workers: </b>0</li>\n",
       "  <li><b>Cores: </b>0</li>\n",
       "  <li><b>Memory: </b>0 B</li>\n",
       "</ul>\n",
       "</td>\n",
       "</tr>\n",
       "</table>"
      ],
      "text/plain": [
       "<Client: 'tcp://10.11.159.191:43724' processes=0 threads=0, memory=0 B>"
      ]
     },
     "execution_count": 10,
     "metadata": {},
     "output_type": "execute_result"
    }
   ],
   "source": [
    "client"
   ]
  },
  {
   "cell_type": "markdown",
   "metadata": {},
   "source": [
    "## Do calculation on larger than memory data"
   ]
  },
  {
   "cell_type": "code",
   "execution_count": 11,
   "metadata": {},
   "outputs": [],
   "source": [
    "import dask.array as da"
   ]
  },
  {
   "cell_type": "code",
   "execution_count": 12,
   "metadata": {},
   "outputs": [
    {
     "data": {
      "text/html": [
       "<table>\n",
       "<tr>\n",
       "<td>\n",
       "<table>\n",
       "  <thead>\n",
       "    <tr><td> </td><th> Array </th><th> Chunk </th></tr>\n",
       "  </thead>\n",
       "  <tbody>\n",
       "    <tr><th> Bytes </th><td> 292.00 GB </td> <td> 730.00 MB </td></tr>\n",
       "    <tr><th> Shape </th><td> (365, 10000, 10000) </td> <td> (365, 500, 500) </td></tr>\n",
       "    <tr><th> Count </th><td> 400 Tasks </td><td> 400 Chunks </td></tr>\n",
       "    <tr><th> Type </th><td> float64 </td><td> numpy.ndarray </td></tr>\n",
       "  </tbody>\n",
       "</table>\n",
       "</td>\n",
       "<td>\n",
       "<svg width=\"199\" height=\"189\" style=\"stroke:rgb(0,0,0);stroke-width:1\" >\n",
       "\n",
       "  <!-- Horizontal lines -->\n",
       "  <line x1=\"10\" y1=\"0\" x2=\"29\" y2=\"19\" style=\"stroke-width:2\" />\n",
       "  <line x1=\"10\" y1=\"6\" x2=\"29\" y2=\"25\" />\n",
       "  <line x1=\"10\" y1=\"12\" x2=\"29\" y2=\"31\" />\n",
       "  <line x1=\"10\" y1=\"18\" x2=\"29\" y2=\"37\" />\n",
       "  <line x1=\"10\" y1=\"24\" x2=\"29\" y2=\"43\" />\n",
       "  <line x1=\"10\" y1=\"30\" x2=\"29\" y2=\"49\" />\n",
       "  <line x1=\"10\" y1=\"36\" x2=\"29\" y2=\"55\" />\n",
       "  <line x1=\"10\" y1=\"42\" x2=\"29\" y2=\"61\" />\n",
       "  <line x1=\"10\" y1=\"48\" x2=\"29\" y2=\"67\" />\n",
       "  <line x1=\"10\" y1=\"54\" x2=\"29\" y2=\"73\" />\n",
       "  <line x1=\"10\" y1=\"60\" x2=\"29\" y2=\"79\" />\n",
       "  <line x1=\"10\" y1=\"66\" x2=\"29\" y2=\"85\" />\n",
       "  <line x1=\"10\" y1=\"72\" x2=\"29\" y2=\"91\" />\n",
       "  <line x1=\"10\" y1=\"78\" x2=\"29\" y2=\"97\" />\n",
       "  <line x1=\"10\" y1=\"84\" x2=\"29\" y2=\"103\" />\n",
       "  <line x1=\"10\" y1=\"90\" x2=\"29\" y2=\"109\" />\n",
       "  <line x1=\"10\" y1=\"96\" x2=\"29\" y2=\"115\" />\n",
       "  <line x1=\"10\" y1=\"102\" x2=\"29\" y2=\"121\" />\n",
       "  <line x1=\"10\" y1=\"108\" x2=\"29\" y2=\"127\" />\n",
       "  <line x1=\"10\" y1=\"114\" x2=\"29\" y2=\"133\" />\n",
       "  <line x1=\"10\" y1=\"120\" x2=\"29\" y2=\"139\" style=\"stroke-width:2\" />\n",
       "\n",
       "  <!-- Vertical lines -->\n",
       "  <line x1=\"10\" y1=\"0\" x2=\"10\" y2=\"120\" style=\"stroke-width:2\" />\n",
       "  <line x1=\"29\" y1=\"19\" x2=\"29\" y2=\"139\" style=\"stroke-width:2\" />\n",
       "\n",
       "  <!-- Colored Rectangle -->\n",
       "  <polygon points=\"10.000000,0.000000 29.161809,19.161809 29.161809,139.161809 10.000000,120.000000\" style=\"fill:#ECB172A0;stroke-width:0\"/>\n",
       "\n",
       "  <!-- Horizontal lines -->\n",
       "  <line x1=\"10\" y1=\"0\" x2=\"130\" y2=\"0\" style=\"stroke-width:2\" />\n",
       "  <line x1=\"29\" y1=\"19\" x2=\"149\" y2=\"19\" style=\"stroke-width:2\" />\n",
       "\n",
       "  <!-- Vertical lines -->\n",
       "  <line x1=\"10\" y1=\"0\" x2=\"29\" y2=\"19\" style=\"stroke-width:2\" />\n",
       "  <line x1=\"16\" y1=\"0\" x2=\"35\" y2=\"19\" />\n",
       "  <line x1=\"22\" y1=\"0\" x2=\"41\" y2=\"19\" />\n",
       "  <line x1=\"28\" y1=\"0\" x2=\"47\" y2=\"19\" />\n",
       "  <line x1=\"34\" y1=\"0\" x2=\"53\" y2=\"19\" />\n",
       "  <line x1=\"40\" y1=\"0\" x2=\"59\" y2=\"19\" />\n",
       "  <line x1=\"46\" y1=\"0\" x2=\"65\" y2=\"19\" />\n",
       "  <line x1=\"52\" y1=\"0\" x2=\"71\" y2=\"19\" />\n",
       "  <line x1=\"58\" y1=\"0\" x2=\"77\" y2=\"19\" />\n",
       "  <line x1=\"64\" y1=\"0\" x2=\"83\" y2=\"19\" />\n",
       "  <line x1=\"70\" y1=\"0\" x2=\"89\" y2=\"19\" />\n",
       "  <line x1=\"76\" y1=\"0\" x2=\"95\" y2=\"19\" />\n",
       "  <line x1=\"82\" y1=\"0\" x2=\"101\" y2=\"19\" />\n",
       "  <line x1=\"88\" y1=\"0\" x2=\"107\" y2=\"19\" />\n",
       "  <line x1=\"94\" y1=\"0\" x2=\"113\" y2=\"19\" />\n",
       "  <line x1=\"100\" y1=\"0\" x2=\"119\" y2=\"19\" />\n",
       "  <line x1=\"106\" y1=\"0\" x2=\"125\" y2=\"19\" />\n",
       "  <line x1=\"112\" y1=\"0\" x2=\"131\" y2=\"19\" />\n",
       "  <line x1=\"118\" y1=\"0\" x2=\"137\" y2=\"19\" />\n",
       "  <line x1=\"124\" y1=\"0\" x2=\"143\" y2=\"19\" />\n",
       "  <line x1=\"130\" y1=\"0\" x2=\"149\" y2=\"19\" style=\"stroke-width:2\" />\n",
       "\n",
       "  <!-- Colored Rectangle -->\n",
       "  <polygon points=\"10.000000,0.000000 130.000000,0.000000 149.161809,19.161809 29.161809,19.161809\" style=\"fill:#ECB172A0;stroke-width:0\"/>\n",
       "\n",
       "  <!-- Horizontal lines -->\n",
       "  <line x1=\"29\" y1=\"19\" x2=\"149\" y2=\"19\" style=\"stroke-width:2\" />\n",
       "  <line x1=\"29\" y1=\"25\" x2=\"149\" y2=\"25\" />\n",
       "  <line x1=\"29\" y1=\"31\" x2=\"149\" y2=\"31\" />\n",
       "  <line x1=\"29\" y1=\"37\" x2=\"149\" y2=\"37\" />\n",
       "  <line x1=\"29\" y1=\"43\" x2=\"149\" y2=\"43\" />\n",
       "  <line x1=\"29\" y1=\"49\" x2=\"149\" y2=\"49\" />\n",
       "  <line x1=\"29\" y1=\"55\" x2=\"149\" y2=\"55\" />\n",
       "  <line x1=\"29\" y1=\"61\" x2=\"149\" y2=\"61\" />\n",
       "  <line x1=\"29\" y1=\"67\" x2=\"149\" y2=\"67\" />\n",
       "  <line x1=\"29\" y1=\"73\" x2=\"149\" y2=\"73\" />\n",
       "  <line x1=\"29\" y1=\"79\" x2=\"149\" y2=\"79\" />\n",
       "  <line x1=\"29\" y1=\"85\" x2=\"149\" y2=\"85\" />\n",
       "  <line x1=\"29\" y1=\"91\" x2=\"149\" y2=\"91\" />\n",
       "  <line x1=\"29\" y1=\"97\" x2=\"149\" y2=\"97\" />\n",
       "  <line x1=\"29\" y1=\"103\" x2=\"149\" y2=\"103\" />\n",
       "  <line x1=\"29\" y1=\"109\" x2=\"149\" y2=\"109\" />\n",
       "  <line x1=\"29\" y1=\"115\" x2=\"149\" y2=\"115\" />\n",
       "  <line x1=\"29\" y1=\"121\" x2=\"149\" y2=\"121\" />\n",
       "  <line x1=\"29\" y1=\"127\" x2=\"149\" y2=\"127\" />\n",
       "  <line x1=\"29\" y1=\"133\" x2=\"149\" y2=\"133\" />\n",
       "  <line x1=\"29\" y1=\"139\" x2=\"149\" y2=\"139\" style=\"stroke-width:2\" />\n",
       "\n",
       "  <!-- Vertical lines -->\n",
       "  <line x1=\"29\" y1=\"19\" x2=\"29\" y2=\"139\" style=\"stroke-width:2\" />\n",
       "  <line x1=\"35\" y1=\"19\" x2=\"35\" y2=\"139\" />\n",
       "  <line x1=\"41\" y1=\"19\" x2=\"41\" y2=\"139\" />\n",
       "  <line x1=\"47\" y1=\"19\" x2=\"47\" y2=\"139\" />\n",
       "  <line x1=\"53\" y1=\"19\" x2=\"53\" y2=\"139\" />\n",
       "  <line x1=\"59\" y1=\"19\" x2=\"59\" y2=\"139\" />\n",
       "  <line x1=\"65\" y1=\"19\" x2=\"65\" y2=\"139\" />\n",
       "  <line x1=\"71\" y1=\"19\" x2=\"71\" y2=\"139\" />\n",
       "  <line x1=\"77\" y1=\"19\" x2=\"77\" y2=\"139\" />\n",
       "  <line x1=\"83\" y1=\"19\" x2=\"83\" y2=\"139\" />\n",
       "  <line x1=\"89\" y1=\"19\" x2=\"89\" y2=\"139\" />\n",
       "  <line x1=\"95\" y1=\"19\" x2=\"95\" y2=\"139\" />\n",
       "  <line x1=\"101\" y1=\"19\" x2=\"101\" y2=\"139\" />\n",
       "  <line x1=\"107\" y1=\"19\" x2=\"107\" y2=\"139\" />\n",
       "  <line x1=\"113\" y1=\"19\" x2=\"113\" y2=\"139\" />\n",
       "  <line x1=\"119\" y1=\"19\" x2=\"119\" y2=\"139\" />\n",
       "  <line x1=\"125\" y1=\"19\" x2=\"125\" y2=\"139\" />\n",
       "  <line x1=\"131\" y1=\"19\" x2=\"131\" y2=\"139\" />\n",
       "  <line x1=\"137\" y1=\"19\" x2=\"137\" y2=\"139\" />\n",
       "  <line x1=\"143\" y1=\"19\" x2=\"143\" y2=\"139\" />\n",
       "  <line x1=\"149\" y1=\"19\" x2=\"149\" y2=\"139\" style=\"stroke-width:2\" />\n",
       "\n",
       "  <!-- Colored Rectangle -->\n",
       "  <polygon points=\"29.161809,19.161809 149.161809,19.161809 149.161809,139.161809 29.161809,139.161809\" style=\"fill:#ECB172A0;stroke-width:0\"/>\n",
       "\n",
       "  <!-- Text -->\n",
       "  <text x=\"89.161809\" y=\"159.161809\" font-size=\"1.0rem\" font-weight=\"100\" text-anchor=\"middle\" >10000</text>\n",
       "  <text x=\"169.161809\" y=\"79.161809\" font-size=\"1.0rem\" font-weight=\"100\" text-anchor=\"middle\" transform=\"rotate(-90,169.161809,79.161809)\">10000</text>\n",
       "  <text x=\"9.580905\" y=\"149.580905\" font-size=\"1.0rem\" font-weight=\"100\" text-anchor=\"middle\" transform=\"rotate(45,9.580905,149.580905)\">365</text>\n",
       "</svg>\n",
       "</td>\n",
       "</tr>\n",
       "</table>"
      ],
      "text/plain": [
       "dask.array<uniform, shape=(365, 10000, 10000), dtype=float64, chunksize=(365, 500, 500), chunktype=numpy.ndarray>"
      ]
     },
     "execution_count": 12,
     "metadata": {},
     "output_type": "execute_result"
    }
   ],
   "source": [
    "fake_data = da.random.uniform(0, 1, size=(365, 1e4, 1e4), chunks=(365,500,500)) # problem specific chunking\n",
    "fake_data"
   ]
  },
  {
   "cell_type": "code",
   "execution_count": 13,
   "metadata": {},
   "outputs": [],
   "source": [
    "import time"
   ]
  },
  {
   "cell_type": "code",
   "execution_count": 14,
   "metadata": {},
   "outputs": [
    {
     "name": "stdout",
     "output_type": "stream",
     "text": [
      "elapse time  14.90658164024353  in seconds\n"
     ]
    }
   ],
   "source": [
    "start_time = time.time()\n",
    "fake_data.mean(axis=0).compute()\n",
    "elapsed = time.time() - start_time\n",
    "print('elapse time ',elapsed,' in seconds')"
   ]
  },
  {
   "cell_type": "markdown",
   "metadata": {},
   "source": [
    "## Close jobqueue cluster and client process"
   ]
  },
  {
   "cell_type": "code",
   "execution_count": 15,
   "metadata": {},
   "outputs": [
    {
     "name": "stdout",
     "output_type": "stream",
     "text": [
      "             JOBID PARTITION     NAME     USER ST       TIME  NODES NODELIST(REASON)\n",
      "           2524520       esm dask-wor    rath1  R       0:20      1 jwc00n003\n"
     ]
    }
   ],
   "source": [
    "!squeue -u {os.environ[\"USER\"]}"
   ]
  },
  {
   "cell_type": "code",
   "execution_count": 16,
   "metadata": {},
   "outputs": [],
   "source": [
    "jobqueue_cluster.close()\n",
    "client.close()"
   ]
  },
  {
   "cell_type": "code",
   "execution_count": 17,
   "metadata": {},
   "outputs": [
    {
     "name": "stdout",
     "output_type": "stream",
     "text": [
      "             JOBID PARTITION     NAME     USER ST       TIME  NODES NODELIST(REASON)\n",
      "           2524520       esm dask-wor    rath1 CG       0:20      1 jwc00n003\n"
     ]
    }
   ],
   "source": [
    "!squeue -u {os.environ[\"USER\"]}"
   ]
  },
  {
   "cell_type": "markdown",
   "metadata": {},
   "source": [
    "## Conda environment"
   ]
  },
  {
   "cell_type": "code",
   "execution_count": 18,
   "metadata": {},
   "outputs": [
    {
     "name": "stdout",
     "output_type": "stream",
     "text": [
      "# This file may be used to create an environment using:\n",
      "# $ conda create --name <env> --file <this file>\n",
      "# platform: linux-64\n",
      "@EXPLICIT\n",
      "https://conda.anaconda.org/conda-forge/linux-64/_libgcc_mutex-0.1-conda_forge.tar.bz2\n",
      "https://conda.anaconda.org/conda-forge/linux-64/ca-certificates-2020.6.20-hecda079_0.tar.bz2\n",
      "https://conda.anaconda.org/conda-forge/linux-64/ld_impl_linux-64-2.34-hc38a660_9.tar.bz2\n",
      "https://conda.anaconda.org/conda-forge/linux-64/libgfortran-ng-7.5.0-hdf63c60_15.tar.bz2\n",
      "https://conda.anaconda.org/conda-forge/linux-64/libstdcxx-ng-9.3.0-hdf63c60_15.tar.bz2\n",
      "https://conda.anaconda.org/conda-forge/linux-64/libgomp-9.3.0-h24d8f2e_15.tar.bz2\n",
      "https://conda.anaconda.org/conda-forge/linux-64/_openmp_mutex-4.5-1_gnu.tar.bz2\n",
      "https://conda.anaconda.org/conda-forge/linux-64/libgcc-ng-9.3.0-h24d8f2e_15.tar.bz2\n",
      "https://conda.anaconda.org/conda-forge/linux-64/bzip2-1.0.8-h516909a_2.tar.bz2\n",
      "https://conda.anaconda.org/conda-forge/linux-64/c-ares-1.16.1-h516909a_0.tar.bz2\n",
      "https://conda.anaconda.org/conda-forge/linux-64/jpeg-9d-h516909a_0.tar.bz2\n",
      "https://conda.anaconda.org/conda-forge/linux-64/libev-4.33-h516909a_0.tar.bz2\n",
      "https://conda.anaconda.org/conda-forge/linux-64/libffi-3.2.1-he1b5a44_1007.tar.bz2\n",
      "https://conda.anaconda.org/conda-forge/linux-64/libopenblas-0.3.10-pthreads_hb3c22a3_4.tar.bz2\n",
      "https://conda.anaconda.org/conda-forge/linux-64/libsodium-1.0.18-h516909a_0.tar.bz2\n",
      "https://conda.anaconda.org/conda-forge/linux-64/libwebp-base-1.1.0-h516909a_3.tar.bz2\n",
      "https://conda.anaconda.org/conda-forge/linux-64/lz4-c-1.9.2-he1b5a44_2.tar.bz2\n",
      "https://conda.anaconda.org/conda-forge/linux-64/ncurses-6.2-he1b5a44_1.tar.bz2\n",
      "https://conda.anaconda.org/conda-forge/linux-64/openssl-1.1.1g-h516909a_1.tar.bz2\n",
      "https://conda.anaconda.org/conda-forge/linux-64/xz-5.2.5-h516909a_1.tar.bz2\n",
      "https://conda.anaconda.org/conda-forge/linux-64/yaml-0.2.5-h516909a_0.tar.bz2\n",
      "https://conda.anaconda.org/conda-forge/linux-64/zlib-1.2.11-h516909a_1007.tar.bz2\n",
      "https://conda.anaconda.org/conda-forge/linux-64/hdf4-4.2.13-hf30be14_1003.tar.bz2\n",
      "https://conda.anaconda.org/conda-forge/linux-64/hdf5-1.10.6-nompi_h3c11f04_101.tar.bz2\n",
      "https://conda.anaconda.org/conda-forge/linux-64/libblas-3.8.0-17_openblas.tar.bz2\n",
      "https://conda.anaconda.org/conda-forge/linux-64/libedit-3.1.20191231-he28a2e2_2.tar.bz2\n",
      "https://conda.anaconda.org/conda-forge/linux-64/libnghttp2-1.41.0-hab1572f_1.tar.bz2\n",
      "https://conda.anaconda.org/conda-forge/linux-64/libpng-1.6.37-hed695b0_2.tar.bz2\n",
      "https://conda.anaconda.org/conda-forge/linux-64/libssh2-1.9.0-hab1572f_5.tar.bz2\n",
      "https://conda.anaconda.org/conda-forge/linux-64/readline-8.0-he28a2e2_2.tar.bz2\n",
      "https://conda.anaconda.org/conda-forge/linux-64/tk-8.6.10-hed695b0_0.tar.bz2\n",
      "https://conda.anaconda.org/conda-forge/linux-64/zeromq-4.3.2-he1b5a44_3.tar.bz2\n",
      "https://conda.anaconda.org/conda-forge/linux-64/zstd-1.4.5-h6597ccf_2.tar.bz2\n",
      "https://conda.anaconda.org/conda-forge/linux-64/freetype-2.10.2-he06d7ca_0.tar.bz2\n",
      "https://conda.anaconda.org/conda-forge/linux-64/krb5-1.17.1-hfafb76e_2.tar.bz2\n",
      "https://conda.anaconda.org/conda-forge/linux-64/libcblas-3.8.0-17_openblas.tar.bz2\n",
      "https://conda.anaconda.org/conda-forge/linux-64/liblapack-3.8.0-17_openblas.tar.bz2\n",
      "https://conda.anaconda.org/conda-forge/linux-64/libtiff-4.1.0-hc7e4089_6.tar.bz2\n",
      "https://conda.anaconda.org/conda-forge/linux-64/sqlite-3.32.3-h4cf870e_1.tar.bz2\n",
      "https://conda.anaconda.org/conda-forge/linux-64/lcms2-2.11-hbd6801e_0.tar.bz2\n",
      "https://conda.anaconda.org/conda-forge/linux-64/libcurl-7.71.1-hcdd3856_4.tar.bz2\n",
      "https://conda.anaconda.org/conda-forge/linux-64/python-3.7.8-h6f2ec95_1_cpython.tar.bz2\n",
      "https://conda.anaconda.org/conda-forge/noarch/asciitree-0.3.3-py_2.tar.bz2\n",
      "https://conda.anaconda.org/conda-forge/noarch/backcall-0.2.0-pyh9f0ad1d_0.tar.bz2\n",
      "https://conda.anaconda.org/conda-forge/noarch/backports-1.0-py_2.tar.bz2\n",
      "https://conda.anaconda.org/conda-forge/noarch/click-7.1.2-pyh9f0ad1d_0.tar.bz2\n",
      "https://conda.anaconda.org/conda-forge/noarch/cloudpickle-1.5.0-py_0.tar.bz2\n",
      "https://conda.anaconda.org/conda-forge/linux-64/curl-7.71.1-he644dc0_4.tar.bz2\n",
      "https://conda.anaconda.org/conda-forge/noarch/decorator-4.4.2-py_0.tar.bz2\n",
      "https://conda.anaconda.org/conda-forge/noarch/fsspec-0.8.0-py_0.tar.bz2\n",
      "https://conda.anaconda.org/conda-forge/noarch/heapdict-1.0.1-py_0.tar.bz2\n",
      "https://conda.anaconda.org/conda-forge/noarch/ipython_genutils-0.2.0-py_1.tar.bz2\n",
      "https://conda.anaconda.org/conda-forge/noarch/locket-0.2.0-py_2.tar.bz2\n",
      "https://conda.anaconda.org/conda-forge/noarch/monotonic-1.5-py_0.tar.bz2\n",
      "https://conda.anaconda.org/conda-forge/noarch/olefile-0.46-py_0.tar.bz2\n",
      "https://conda.anaconda.org/conda-forge/noarch/parso-0.8.0-pyh9f0ad1d_0.tar.bz2\n",
      "https://conda.anaconda.org/conda-forge/noarch/ptyprocess-0.6.0-py_1001.tar.bz2\n",
      "https://conda.anaconda.org/conda-forge/noarch/pyparsing-2.4.7-pyh9f0ad1d_0.tar.bz2\n",
      "https://conda.anaconda.org/conda-forge/linux-64/python_abi-3.7-1_cp37m.tar.bz2\n",
      "https://conda.anaconda.org/conda-forge/noarch/pytz-2020.1-pyh9f0ad1d_0.tar.bz2\n",
      "https://conda.anaconda.org/conda-forge/noarch/six-1.15.0-pyh9f0ad1d_0.tar.bz2\n",
      "https://conda.anaconda.org/conda-forge/noarch/sortedcontainers-2.2.2-pyh9f0ad1d_0.tar.bz2\n",
      "https://conda.anaconda.org/conda-forge/noarch/tblib-1.6.0-py_0.tar.bz2\n",
      "https://conda.anaconda.org/conda-forge/noarch/toolz-0.10.0-py_0.tar.bz2\n",
      "https://conda.anaconda.org/conda-forge/noarch/typing_extensions-3.7.4.2-py_0.tar.bz2\n",
      "https://conda.anaconda.org/conda-forge/noarch/wheel-0.35.1-pyh9f0ad1d_0.tar.bz2\n",
      "https://conda.anaconda.org/conda-forge/linux-64/certifi-2020.6.20-py37hc8dfbb8_0.tar.bz2\n",
      "https://conda.anaconda.org/conda-forge/linux-64/cytoolz-0.10.1-py37h516909a_0.tar.bz2\n",
      "https://conda.anaconda.org/conda-forge/noarch/fasteners-0.14.1-py_3.tar.bz2\n",
      "https://conda.anaconda.org/conda-forge/linux-64/jedi-0.15.2-py37_0.tar.bz2\n",
      "https://conda.anaconda.org/conda-forge/linux-64/libnetcdf-4.7.4-nompi_h84807e1_105.tar.bz2\n",
      "https://conda.anaconda.org/conda-forge/linux-64/markupsafe-1.1.1-py37h8f50634_1.tar.bz2\n",
      "https://conda.anaconda.org/conda-forge/linux-64/msgpack-python-1.0.0-py37h99015e2_1.tar.bz2\n",
      "https://conda.anaconda.org/conda-forge/linux-64/numpy-1.19.1-py37h8960a57_0.tar.bz2\n",
      "https://conda.anaconda.org/conda-forge/noarch/packaging-20.4-pyh9f0ad1d_0.tar.bz2\n",
      "https://conda.anaconda.org/conda-forge/noarch/partd-1.1.0-py_0.tar.bz2\n",
      "https://conda.anaconda.org/conda-forge/linux-64/pexpect-4.8.0-py37hc8dfbb8_1.tar.bz2\n",
      "https://conda.anaconda.org/conda-forge/linux-64/pickleshare-0.7.5-py37hc8dfbb8_1001.tar.bz2\n",
      "https://conda.anaconda.org/conda-forge/linux-64/pillow-7.2.0-py37h718be6c_1.tar.bz2\n",
      "https://conda.anaconda.org/conda-forge/linux-64/psutil-5.7.2-py37h8f50634_0.tar.bz2\n",
      "https://conda.anaconda.org/conda-forge/noarch/python-dateutil-2.8.1-py_0.tar.bz2\n",
      "https://conda.anaconda.org/conda-forge/linux-64/pyyaml-5.3.1-py37h8f50634_0.tar.bz2\n",
      "https://conda.anaconda.org/conda-forge/linux-64/pyzmq-19.0.2-py37hac76be4_0.tar.bz2\n",
      "https://conda.anaconda.org/conda-forge/linux-64/tornado-6.0.4-py37h8f50634_1.tar.bz2\n",
      "https://conda.anaconda.org/conda-forge/linux-64/traitlets-4.3.3-py37hc8dfbb8_1.tar.bz2\n",
      "https://conda.anaconda.org/conda-forge/noarch/zict-2.0.0-py_0.tar.bz2\n",
      "https://conda.anaconda.org/conda-forge/linux-64/cftime-1.2.1-py37h03ebfcd_0.tar.bz2\n",
      "https://conda.anaconda.org/conda-forge/noarch/dask-core-2.23.0-py_0.tar.bz2\n",
      "https://conda.anaconda.org/conda-forge/linux-64/jupyter_core-4.6.3-py37hc8dfbb8_1.tar.bz2\n",
      "https://conda.anaconda.org/conda-forge/linux-64/numcodecs-0.6.4-py37he1b5a44_0.tar.bz2\n",
      "https://conda.anaconda.org/conda-forge/linux-64/pandas-1.1.0-py37h3340039_0.tar.bz2\n",
      "https://conda.anaconda.org/conda-forge/linux-64/scipy-1.5.2-py37hb14ef9d_0.tar.bz2\n",
      "https://conda.anaconda.org/conda-forge/linux-64/setuptools-49.6.0-py37hc8dfbb8_0.tar.bz2\n",
      "https://conda.anaconda.org/conda-forge/noarch/backports.functools_lru_cache-1.6.1-py_0.tar.bz2\n",
      "https://conda.anaconda.org/conda-forge/linux-64/distributed-2.23.0-py37hc8dfbb8_0.tar.bz2\n",
      "https://conda.anaconda.org/conda-forge/noarch/jinja2-2.11.2-pyh9f0ad1d_0.tar.bz2\n",
      "https://conda.anaconda.org/conda-forge/noarch/jupyter_client-6.1.6-py_0.tar.bz2\n",
      "https://conda.anaconda.org/conda-forge/linux-64/netcdf4-1.5.4-nompi_py37hdc49583_100.tar.bz2\n",
      "https://conda.anaconda.org/conda-forge/noarch/pip-20.2.2-py_0.tar.bz2\n",
      "https://conda.anaconda.org/conda-forge/noarch/pygments-2.6.1-py_0.tar.bz2\n",
      "https://conda.anaconda.org/conda-forge/noarch/xarray-0.16.0-py_0.tar.bz2\n",
      "https://conda.anaconda.org/conda-forge/noarch/zarr-2.4.0-py_0.tar.bz2\n",
      "https://conda.anaconda.org/conda-forge/linux-64/bokeh-2.1.1-py37hc8dfbb8_0.tar.bz2\n",
      "https://conda.anaconda.org/conda-forge/noarch/dask-jobqueue-0.7.1-py_0.tar.bz2\n",
      "https://conda.anaconda.org/conda-forge/noarch/wcwidth-0.2.5-pyh9f0ad1d_1.tar.bz2\n",
      "https://conda.anaconda.org/conda-forge/noarch/dask-2.23.0-py_0.tar.bz2\n",
      "https://conda.anaconda.org/conda-forge/noarch/prompt-toolkit-3.0.6-py_0.tar.bz2\n",
      "https://conda.anaconda.org/conda-forge/linux-64/ipython-7.17.0-py37hc6149b9_0.tar.bz2\n",
      "https://conda.anaconda.org/conda-forge/linux-64/ipykernel-5.3.4-py37h43977f1_0.tar.bz2\n"
     ]
    }
   ],
   "source": [
    "!conda list --explicit"
   ]
  }
 ],
 "metadata": {
  "kernelspec": {
   "display_name": "Python [conda env:py3_dask]",
   "language": "python",
   "name": "conda-env-py3_dask-py"
  },
  "language_info": {
   "codemirror_mode": {
    "name": "ipython",
    "version": 3
   },
   "file_extension": ".py",
   "mimetype": "text/x-python",
   "name": "python",
   "nbconvert_exporter": "python",
   "pygments_lexer": "ipython3",
   "version": "3.7.8"
  }
 },
 "nbformat": 4,
 "nbformat_minor": 4
}
