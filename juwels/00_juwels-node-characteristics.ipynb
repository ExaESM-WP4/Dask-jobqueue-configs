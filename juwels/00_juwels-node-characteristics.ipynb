{
 "cells": [
  {
   "cell_type": "markdown",
   "metadata": {},
   "source": [
    "# JUWELS at JSC compute node characteristics"
   ]
  },
  {
   "cell_type": "markdown",
   "metadata": {},
   "source": [
    "Free memory for `batch`, `devel`, `esm` and `large` partitions,"
   ]
  },
  {
   "cell_type": "code",
   "execution_count": 1,
   "metadata": {},
   "outputs": [
    {
     "name": "stdout",
     "output_type": "stream",
     "text": [
      "top - 17:12:32 up  1:40,  1 user,  load average: 14.19, 36.95, 34.24\n",
      "Tasks: 929 total,   1 running, 928 sleeping,   0 stopped,   0 zombie\n",
      "%Cpu(s):  0.2 us,  0.4 sy,  0.0 ni, 99.4 id,  0.0 wa,  0.0 hi,  0.0 si,  0.0 st\n",
      "MiB Mem :  94806.0 total,  76286.3 free,   5530.6 used,  12989.2 buff/cache\n",
      "MiB Swap:      0.0 total,      0.0 free,      0.0 used.  85798.4 avail Mem \n"
     ]
    }
   ],
   "source": [
    "%%bash\n",
    "srun --account=esmtst --time=00:01:00 --partition=batch top -b -n 1 | head -n 5"
   ]
  },
  {
   "cell_type": "code",
   "execution_count": 2,
   "metadata": {},
   "outputs": [],
   "source": [
    "!scontrol -o show nodes > node_state.txt"
   ]
  },
  {
   "cell_type": "code",
   "execution_count": 3,
   "metadata": {},
   "outputs": [],
   "source": [
    "with open('node_state.txt') as f:\n",
    "    lines = f.readlines()"
   ]
  },
  {
   "cell_type": "code",
   "execution_count": 4,
   "metadata": {},
   "outputs": [],
   "source": [
    "matchers = ['NodeName=', 'CPUTot=', 'RealMemory=', 'FreeMem=', 'State=', 'Partitions=']\n",
    "with open('node_state_parsed.txt','w') as f:\n",
    "    for i in range(len(lines)):\n",
    "        my_list = lines[i].split(' ')\n",
    "        matching = [s for s in my_list if any(xs in s for xs in matchers)]\n",
    "        f.write(';'.join(matching)+'\\n')"
   ]
  },
  {
   "cell_type": "code",
   "execution_count": 5,
   "metadata": {},
   "outputs": [],
   "source": [
    "import pandas"
   ]
  },
  {
   "cell_type": "code",
   "execution_count": 6,
   "metadata": {},
   "outputs": [],
   "source": [
    "c1 = lambda x: (x.replace('NodeName=',''))\n",
    "c2 = lambda x: (x.replace('RealMemory=',''))\n",
    "c3 = lambda x: (x.replace('FreeMem=',''))\n",
    "c4 = lambda x: (x.replace('State=',''))\n",
    "c5 = lambda x: (x.replace('Partitions=',''))\n",
    "c6 = lambda x: (x.replace('CPUTot=',''))"
   ]
  },
  {
   "cell_type": "code",
   "execution_count": 7,
   "metadata": {},
   "outputs": [],
   "source": [
    "df = pandas.read_csv('node_state_parsed.txt', delimiter=';', header=None,\n",
    "    names=['NodeName', 'CPUTot', 'RealMemory', 'FreeMem', 'State', 'Partitions'],\n",
    "    converters={'NodeName':c1, 'RealMemory':c2, 'FreeMem':c3, 'State':c4, 'Partitions':c5, 'CPUTot':c6},\n",
    ")"
   ]
  },
  {
   "cell_type": "code",
   "execution_count": 8,
   "metadata": {},
   "outputs": [
    {
     "data": {
      "text/html": [
       "<div>\n",
       "<style scoped>\n",
       "    .dataframe tbody tr th:only-of-type {\n",
       "        vertical-align: middle;\n",
       "    }\n",
       "\n",
       "    .dataframe tbody tr th {\n",
       "        vertical-align: top;\n",
       "    }\n",
       "\n",
       "    .dataframe thead th {\n",
       "        text-align: right;\n",
       "    }\n",
       "</style>\n",
       "<table border=\"1\" class=\"dataframe\">\n",
       "  <thead>\n",
       "    <tr style=\"text-align: right;\">\n",
       "      <th></th>\n",
       "      <th>NodeName</th>\n",
       "      <th>CPUTot</th>\n",
       "      <th>RealMemory</th>\n",
       "      <th>FreeMem</th>\n",
       "      <th>State</th>\n",
       "      <th>Partitions</th>\n",
       "    </tr>\n",
       "  </thead>\n",
       "  <tbody>\n",
       "    <tr>\n",
       "      <th>0</th>\n",
       "      <td>jwb0001</td>\n",
       "      <td>96</td>\n",
       "      <td>515712</td>\n",
       "      <td>487030</td>\n",
       "      <td>ALLOCATED</td>\n",
       "      <td>develbooster,maintbooster,maint</td>\n",
       "    </tr>\n",
       "    <tr>\n",
       "      <th>1</th>\n",
       "      <td>jwb0002</td>\n",
       "      <td>96</td>\n",
       "      <td>515712</td>\n",
       "      <td>487032</td>\n",
       "      <td>RESERVED</td>\n",
       "      <td>booster,largebooster,maintbooster,maint</td>\n",
       "    </tr>\n",
       "    <tr>\n",
       "      <th>2</th>\n",
       "      <td>jwb0003</td>\n",
       "      <td>96</td>\n",
       "      <td>515712</td>\n",
       "      <td>486806</td>\n",
       "      <td>RESERVED</td>\n",
       "      <td>booster,largebooster,maintbooster,maint</td>\n",
       "    </tr>\n",
       "    <tr>\n",
       "      <th>3</th>\n",
       "      <td>jwb0004</td>\n",
       "      <td>96</td>\n",
       "      <td>515712</td>\n",
       "      <td>485974</td>\n",
       "      <td>RESERVED</td>\n",
       "      <td>booster,largebooster,maintbooster,maint</td>\n",
       "    </tr>\n",
       "    <tr>\n",
       "      <th>4</th>\n",
       "      <td>jwb0005</td>\n",
       "      <td>96</td>\n",
       "      <td>515712</td>\n",
       "      <td>486637</td>\n",
       "      <td>RESERVED</td>\n",
       "      <td>booster,largebooster,maintbooster,maint</td>\n",
       "    </tr>\n",
       "    <tr>\n",
       "      <th>...</th>\n",
       "      <td>...</td>\n",
       "      <td>...</td>\n",
       "      <td>...</td>\n",
       "      <td>...</td>\n",
       "      <td>...</td>\n",
       "      <td>...</td>\n",
       "    </tr>\n",
       "    <tr>\n",
       "      <th>3498</th>\n",
       "      <td>jwc09n165</td>\n",
       "      <td>80</td>\n",
       "      <td>180000</td>\n",
       "      <td>N/A</td>\n",
       "      <td>DOWN*+DRAIN</td>\n",
       "      <td>gpus,maintcluster,maint</td>\n",
       "    </tr>\n",
       "    <tr>\n",
       "      <th>3499</th>\n",
       "      <td>jwc09n174</td>\n",
       "      <td>80</td>\n",
       "      <td>180000</td>\n",
       "      <td>157559</td>\n",
       "      <td>ALLOCATED</td>\n",
       "      <td>gpus,maintcluster,maint</td>\n",
       "    </tr>\n",
       "    <tr>\n",
       "      <th>3500</th>\n",
       "      <td>jwc09n177</td>\n",
       "      <td>80</td>\n",
       "      <td>180000</td>\n",
       "      <td>146424</td>\n",
       "      <td>ALLOCATED</td>\n",
       "      <td>gpus,maintcluster,maint</td>\n",
       "    </tr>\n",
       "    <tr>\n",
       "      <th>3501</th>\n",
       "      <td>jwc09n180</td>\n",
       "      <td>80</td>\n",
       "      <td>180000</td>\n",
       "      <td>133886</td>\n",
       "      <td>ALLOCATED</td>\n",
       "      <td>gpus,maintcluster,maint</td>\n",
       "    </tr>\n",
       "    <tr>\n",
       "      <th>3502</th>\n",
       "      <td>jwc09n183</td>\n",
       "      <td>80</td>\n",
       "      <td>180000</td>\n",
       "      <td>140655</td>\n",
       "      <td>ALLOCATED</td>\n",
       "      <td>gpus,maintcluster,maint</td>\n",
       "    </tr>\n",
       "  </tbody>\n",
       "</table>\n",
       "<p>3503 rows × 6 columns</p>\n",
       "</div>"
      ],
      "text/plain": [
       "       NodeName CPUTot RealMemory FreeMem        State  \\\n",
       "0       jwb0001     96     515712  487030    ALLOCATED   \n",
       "1       jwb0002     96     515712  487032     RESERVED   \n",
       "2       jwb0003     96     515712  486806     RESERVED   \n",
       "3       jwb0004     96     515712  485974     RESERVED   \n",
       "4       jwb0005     96     515712  486637     RESERVED   \n",
       "...         ...    ...        ...     ...          ...   \n",
       "3498  jwc09n165     80     180000     N/A  DOWN*+DRAIN   \n",
       "3499  jwc09n174     80     180000  157559    ALLOCATED   \n",
       "3500  jwc09n177     80     180000  146424    ALLOCATED   \n",
       "3501  jwc09n180     80     180000  133886    ALLOCATED   \n",
       "3502  jwc09n183     80     180000  140655    ALLOCATED   \n",
       "\n",
       "                                   Partitions  \n",
       "0             develbooster,maintbooster,maint  \n",
       "1     booster,largebooster,maintbooster,maint  \n",
       "2     booster,largebooster,maintbooster,maint  \n",
       "3     booster,largebooster,maintbooster,maint  \n",
       "4     booster,largebooster,maintbooster,maint  \n",
       "...                                       ...  \n",
       "3498                  gpus,maintcluster,maint  \n",
       "3499                  gpus,maintcluster,maint  \n",
       "3500                  gpus,maintcluster,maint  \n",
       "3501                  gpus,maintcluster,maint  \n",
       "3502                  gpus,maintcluster,maint  \n",
       "\n",
       "[3503 rows x 6 columns]"
      ]
     },
     "execution_count": 8,
     "metadata": {},
     "output_type": "execute_result"
    }
   ],
   "source": [
    "df"
   ]
  },
  {
   "cell_type": "code",
   "execution_count": 9,
   "metadata": {},
   "outputs": [],
   "source": [
    "mask = df['Partitions'].str.contains('|'.join(['batch', 'devel', 'esm', 'large'])) \\\n",
    "& df['State'].str.contains('IDLE') \\\n",
    "& ~df['Partitions'].str.contains('mem192')"
   ]
  },
  {
   "cell_type": "code",
   "execution_count": 10,
   "metadata": {},
   "outputs": [
    {
     "name": "stdout",
     "output_type": "stream",
     "text": [
      "90000 86866\n"
     ]
    }
   ],
   "source": [
    "print(df[mask]['RealMemory'].max(), df[mask]['FreeMem'].max()) # MiB"
   ]
  },
  {
   "cell_type": "markdown",
   "metadata": {},
   "source": [
    "Mount points for `batch` partition compute nodes,"
   ]
  },
  {
   "cell_type": "code",
   "execution_count": 11,
   "metadata": {},
   "outputs": [
    {
     "name": "stdout",
     "output_type": "stream",
     "text": [
      "Filesystem           1K-blocks          Used     Available Use% Mounted on\n",
      "devtmpfs              48512736             0      48512736   0% /dev\n",
      "tmpfs                 48540680          2044      48538636   1% /run\n",
      "tmpfs                 48540680             0      48540680   0% /sys/fs/cgroup\n",
      "tmpfs                 48540680       2763732      45776948   6% /\n",
      "tmpfs                 48540680             4      48540676   1% /dev/shm\n",
      "tmpfs                  9708136             0       9708136   0% /run/user/0\n",
      "scratch         14850371616768 6745390759936 8104980856832  46% /p/scratch\n",
      "fastdata         9900247744512 7748817567744 2151430176768  79% /p/fastdata\n",
      "hpcmon             17423376384    9409325056    8014051328  55% /p/hpcmon\n",
      "project          4125103226880 2391816388608 1733286838272  58% /p/project\n",
      "usersoftware       34458402816     359219200   34099183616   2% /p/usersoftware\n",
      "juwels_software    17229201408    4362436608   12866764800  26% /p/software/juwels\n",
      "home               64509345792   12161220608   52348125184  19% /p/home\n"
     ]
    },
    {
     "name": "stderr",
     "output_type": "stream",
     "text": [
      "srun: job 3256254 queued and waiting for resources\n",
      "srun: job 3256254 has been allocated resources\n"
     ]
    }
   ],
   "source": [
    "%%bash\n",
    "srun --account=esmtst --time=00:01:00 --partition=batch df"
   ]
  },
  {
   "cell_type": "markdown",
   "metadata": {},
   "source": [
    "Python environment,"
   ]
  },
  {
   "cell_type": "code",
   "execution_count": 12,
   "metadata": {},
   "outputs": [
    {
     "name": "stdout",
     "output_type": "stream",
     "text": [
      "# This file may be used to create an environment using:\n",
      "# $ conda create --name <env> --file <this file>\n",
      "# platform: linux-64\n",
      "@EXPLICIT\n",
      "https://repo.anaconda.com/pkgs/main/linux-64/_libgcc_mutex-0.1-main.conda\n",
      "https://conda.anaconda.org/conda-forge/linux-64/ca-certificates-2020.12.5-ha878542_0.tar.bz2\n",
      "https://repo.anaconda.com/pkgs/main/linux-64/ld_impl_linux-64-2.33.1-h53a641e_7.conda\n",
      "https://conda.anaconda.org/conda-forge/linux-64/libgfortran4-7.5.0-hae1eefd_17.tar.bz2\n",
      "https://repo.anaconda.com/pkgs/main/linux-64/libstdcxx-ng-9.1.0-hdf63c60_0.conda\n",
      "https://conda.anaconda.org/conda-forge/linux-64/pandoc-2.11.3.2-h7f98852_0.tar.bz2\n",
      "https://repo.anaconda.com/pkgs/main/linux-64/libgcc-ng-9.1.0-hdf63c60_0.conda\n",
      "https://conda.anaconda.org/conda-forge/linux-64/libgfortran-ng-7.5.0-hae1eefd_17.tar.bz2\n",
      "https://conda.anaconda.org/conda-forge/linux-64/jpeg-9d-h36c2ea0_0.tar.bz2\n",
      "https://repo.anaconda.com/pkgs/main/linux-64/libffi-3.3-he6710b0_2.conda\n",
      "https://conda.anaconda.org/conda-forge/linux-64/libopenblas-0.3.12-pthreads_hb3c22a3_1.tar.bz2\n",
      "https://conda.anaconda.org/conda-forge/linux-64/libsodium-1.0.18-h36c2ea0_1.tar.bz2\n",
      "https://conda.anaconda.org/conda-forge/linux-64/lz4-c-1.9.2-he1b5a44_3.tar.bz2\n",
      "https://repo.anaconda.com/pkgs/main/linux-64/ncurses-6.2-he6710b0_1.conda\n",
      "https://repo.anaconda.com/pkgs/main/linux-64/openssl-1.1.1i-h27cfd23_0.conda\n",
      "https://repo.anaconda.com/pkgs/main/linux-64/xz-5.2.5-h7b6447c_0.conda\n",
      "https://repo.anaconda.com/pkgs/main/linux-64/yaml-0.2.5-h7b6447c_0.conda\n",
      "https://repo.anaconda.com/pkgs/main/linux-64/zlib-1.2.11-h7b6447c_3.conda\n",
      "https://conda.anaconda.org/conda-forge/linux-64/libblas-3.9.0-7_openblas.tar.bz2\n",
      "https://repo.anaconda.com/pkgs/main/linux-64/libedit-3.1.20191231-h14c3975_1.conda\n",
      "https://conda.anaconda.org/conda-forge/linux-64/libpng-1.6.37-h21135ba_2.tar.bz2\n",
      "https://repo.anaconda.com/pkgs/main/linux-64/readline-8.0-h7b6447c_0.conda\n",
      "https://repo.anaconda.com/pkgs/main/linux-64/tk-8.6.10-hbc83047_0.conda\n",
      "https://conda.anaconda.org/conda-forge/linux-64/zeromq-4.3.3-h58526e2_3.tar.bz2\n",
      "https://repo.anaconda.com/pkgs/main/linux-64/zstd-1.4.5-h9ceee32_0.conda\n",
      "https://conda.anaconda.org/conda-forge/linux-64/freetype-2.10.4-h7ca028e_0.tar.bz2\n",
      "https://conda.anaconda.org/conda-forge/linux-64/libcblas-3.9.0-7_openblas.tar.bz2\n",
      "https://conda.anaconda.org/conda-forge/linux-64/liblapack-3.9.0-7_openblas.tar.bz2\n",
      "https://repo.anaconda.com/pkgs/main/linux-64/libtiff-4.1.0-h2733197_1.conda\n",
      "https://repo.anaconda.com/pkgs/main/linux-64/sqlite-3.33.0-h62c20be_0.conda\n",
      "https://conda.anaconda.org/conda-forge/linux-64/lcms2-2.11-hcbb858e_1.tar.bz2\n",
      "https://repo.anaconda.com/pkgs/main/linux-64/python-3.8.5-h7579374_1.conda\n",
      "https://conda.anaconda.org/conda-forge/noarch/async_generator-1.10-py_0.tar.bz2\n",
      "https://conda.anaconda.org/conda-forge/noarch/attrs-20.3.0-pyhd3deb0d_0.tar.bz2\n",
      "https://conda.anaconda.org/conda-forge/noarch/backcall-0.2.0-pyh9f0ad1d_0.tar.bz2\n",
      "https://conda.anaconda.org/conda-forge/noarch/backports-1.0-py_2.tar.bz2\n",
      "https://repo.anaconda.com/pkgs/main/linux-64/chardet-3.0.4-py38h06a4308_1003.conda\n",
      "https://conda.anaconda.org/conda-forge/noarch/click-7.1.2-pyh9f0ad1d_0.tar.bz2\n",
      "https://conda.anaconda.org/conda-forge/noarch/cloudpickle-1.6.0-py_0.tar.bz2\n",
      "https://conda.anaconda.org/conda-forge/noarch/decorator-4.4.2-py_0.tar.bz2\n",
      "https://conda.anaconda.org/conda-forge/noarch/defusedxml-0.6.0-py_0.tar.bz2\n",
      "https://conda.anaconda.org/conda-forge/noarch/entrypoints-0.3-pyhd8ed1ab_1003.tar.bz2\n",
      "https://conda.anaconda.org/conda-forge/noarch/fsspec-0.8.5-pyhd8ed1ab_0.tar.bz2\n",
      "https://conda.anaconda.org/conda-forge/noarch/heapdict-1.0.1-py_0.tar.bz2\n",
      "https://repo.anaconda.com/pkgs/main/noarch/idna-2.10-py_0.conda\n",
      "https://conda.anaconda.org/conda-forge/noarch/ipython_genutils-0.2.0-py_1.tar.bz2\n",
      "https://conda.anaconda.org/conda-forge/noarch/json5-0.9.5-pyh9f0ad1d_0.tar.bz2\n",
      "https://conda.anaconda.org/conda-forge/noarch/locket-0.2.0-py_2.tar.bz2\n",
      "https://repo.anaconda.com/pkgs/main/linux-64/msgpack-python-1.0.1-py38hff7bd54_0.conda\n",
      "https://conda.anaconda.org/conda-forge/noarch/nest-asyncio-1.4.3-pyhd8ed1ab_0.tar.bz2\n",
      "https://conda.anaconda.org/conda-forge/noarch/olefile-0.46-pyh9f0ad1d_1.tar.bz2\n",
      "https://conda.anaconda.org/conda-forge/noarch/pandocfilters-1.4.2-py_1.tar.bz2\n",
      "https://conda.anaconda.org/conda-forge/noarch/parso-0.8.1-pyhd8ed1ab_0.tar.bz2\n",
      "https://conda.anaconda.org/conda-forge/noarch/pickleshare-0.7.5-py_1003.tar.bz2\n",
      "https://conda.anaconda.org/conda-forge/noarch/prometheus_client-0.9.0-pyhd3deb0d_0.tar.bz2\n",
      "https://repo.anaconda.com/pkgs/main/linux-64/psutil-5.7.2-py38h7b6447c_0.conda\n",
      "https://conda.anaconda.org/conda-forge/noarch/ptyprocess-0.7.0-pyhd3deb0d_0.tar.bz2\n",
      "https://repo.anaconda.com/pkgs/main/linux-64/pycosat-0.6.3-py38h7b6447c_1.conda\n",
      "https://repo.anaconda.com/pkgs/main/noarch/pycparser-2.20-py_2.conda\n",
      "https://conda.anaconda.org/conda-forge/noarch/pyparsing-2.4.7-pyh9f0ad1d_0.tar.bz2\n",
      "https://repo.anaconda.com/pkgs/main/linux-64/pysocks-1.7.1-py38h06a4308_0.conda\n",
      "https://conda.anaconda.org/conda-forge/linux-64/python_abi-3.8-1_cp38.tar.bz2\n",
      "https://conda.anaconda.org/conda-forge/noarch/pytz-2020.5-pyhd8ed1ab_0.tar.bz2\n",
      "https://repo.anaconda.com/pkgs/main/linux-64/ruamel_yaml-0.15.87-py38h7b6447c_1.conda\n",
      "https://conda.anaconda.org/conda-forge/noarch/send2trash-1.5.0-py_0.tar.bz2\n",
      "https://repo.anaconda.com/pkgs/main/linux-64/six-1.15.0-py38h06a4308_0.conda\n",
      "https://conda.anaconda.org/conda-forge/noarch/sortedcontainers-2.3.0-pyhd8ed1ab_0.tar.bz2\n",
      "https://conda.anaconda.org/conda-forge/noarch/tblib-1.6.0-py_0.tar.bz2\n",
      "https://conda.anaconda.org/conda-forge/noarch/testpath-0.4.4-py_0.tar.bz2\n",
      "https://conda.anaconda.org/conda-forge/noarch/toolz-0.11.1-py_0.tar.bz2\n",
      "https://repo.anaconda.com/pkgs/main/noarch/tqdm-4.51.0-pyhd3eb1b0_0.conda\n",
      "https://conda.anaconda.org/conda-forge/noarch/typing_extensions-3.7.4.3-py_0.tar.bz2\n",
      "https://conda.anaconda.org/conda-forge/noarch/webencodings-0.5.1-py_1.tar.bz2\n",
      "https://repo.anaconda.com/pkgs/main/noarch/wheel-0.35.1-pyhd3eb1b0_0.conda\n",
      "https://conda.anaconda.org/conda-forge/noarch/zipp-3.4.0-py_0.tar.bz2\n",
      "https://conda.anaconda.org/conda-forge/noarch/babel-2.9.0-pyhd3deb0d_0.tar.bz2\n",
      "https://conda.anaconda.org/conda-forge/linux-64/certifi-2020.12.5-py38h578d9bd_1.tar.bz2\n",
      "https://repo.anaconda.com/pkgs/main/linux-64/cffi-1.14.3-py38h261ae71_2.conda\n",
      "https://repo.anaconda.com/pkgs/main/linux-64/conda-package-handling-1.7.2-py38h03888b9_0.conda\n",
      "https://conda.anaconda.org/conda-forge/linux-64/cytoolz-0.11.0-py38h25fe258_1.tar.bz2\n",
      "https://conda.anaconda.org/conda-forge/linux-64/importlib-metadata-3.3.0-py38h578d9bd_2.tar.bz2\n",
      "https://conda.anaconda.org/conda-forge/linux-64/jedi-0.18.0-py38h578d9bd_1.tar.bz2\n",
      "https://conda.anaconda.org/conda-forge/linux-64/markupsafe-1.1.1-py38h8df0ef7_2.tar.bz2\n",
      "https://conda.anaconda.org/conda-forge/linux-64/mistune-0.8.4-py38h25fe258_1002.tar.bz2\n",
      "https://conda.anaconda.org/conda-forge/linux-64/numpy-1.18.5-py38h8854b6b_0.tar.bz2\n",
      "https://conda.anaconda.org/conda-forge/noarch/packaging-20.8-pyhd3deb0d_0.tar.bz2\n",
      "https://conda.anaconda.org/conda-forge/noarch/partd-1.1.0-py_0.tar.bz2\n",
      "https://conda.anaconda.org/conda-forge/noarch/pexpect-4.8.0-pyh9f0ad1d_2.tar.bz2\n",
      "https://conda.anaconda.org/conda-forge/linux-64/pillow-7.2.0-py38h9776b28_2.tar.bz2\n",
      "https://conda.anaconda.org/conda-forge/linux-64/pyrsistent-0.17.3-py38h25fe258_1.tar.bz2\n",
      "https://conda.anaconda.org/conda-forge/noarch/python-dateutil-2.8.1-py_0.tar.bz2\n",
      "https://conda.anaconda.org/conda-forge/linux-64/pyyaml-5.3.1-py38h8df0ef7_1.tar.bz2\n",
      "https://conda.anaconda.org/conda-forge/linux-64/pyzmq-20.0.0-py38h1d1b12f_1.tar.bz2\n",
      "https://conda.anaconda.org/conda-forge/linux-64/sniffio-1.2.0-py38h578d9bd_0.tar.bz2\n",
      "https://conda.anaconda.org/conda-forge/linux-64/tornado-6.1-py38h25fe258_0.tar.bz2\n",
      "https://conda.anaconda.org/conda-forge/noarch/traitlets-5.0.5-py_0.tar.bz2\n",
      "https://conda.anaconda.org/conda-forge/noarch/zict-2.0.0-py_0.tar.bz2\n",
      "https://conda.anaconda.org/conda-forge/linux-64/anyio-2.0.2-py38h578d9bd_3.tar.bz2\n",
      "https://conda.anaconda.org/conda-forge/linux-64/argon2-cffi-20.1.0-py38h25fe258_2.tar.bz2\n",
      "https://repo.anaconda.com/pkgs/main/linux-64/brotlipy-0.7.0-py38h27cfd23_1003.conda\n",
      "https://repo.anaconda.com/pkgs/main/linux-64/cryptography-3.2.1-py38h3c74f83_1.conda\n",
      "https://conda.anaconda.org/conda-forge/noarch/dask-core-2020.12.0-pyhd8ed1ab_0.tar.bz2\n",
      "https://conda.anaconda.org/conda-forge/noarch/importlib_metadata-3.3.0-hd8ed1ab_2.tar.bz2\n",
      "https://conda.anaconda.org/conda-forge/linux-64/jupyter_core-4.7.0-py38h578d9bd_0.tar.bz2\n",
      "https://conda.anaconda.org/conda-forge/linux-64/pandas-1.1.4-py38h0ef3d22_0.tar.bz2\n",
      "https://repo.anaconda.com/pkgs/main/linux-64/setuptools-50.3.1-py38h06a4308_1.conda\n",
      "https://conda.anaconda.org/conda-forge/linux-64/terminado-0.9.2-py38h578d9bd_0.tar.bz2\n",
      "https://conda.anaconda.org/conda-forge/noarch/backports.functools_lru_cache-1.6.1-py_0.tar.bz2\n",
      "https://conda.anaconda.org/conda-forge/noarch/bleach-3.2.1-pyh9f0ad1d_0.tar.bz2\n",
      "https://conda.anaconda.org/conda-forge/linux-64/distributed-2020.12.0-py38h578d9bd_0.tar.bz2\n",
      "https://conda.anaconda.org/conda-forge/noarch/jinja2-2.11.2-pyh9f0ad1d_0.tar.bz2\n",
      "https://conda.anaconda.org/conda-forge/noarch/jsonschema-3.2.0-py_2.tar.bz2\n",
      "https://conda.anaconda.org/conda-forge/noarch/jupyter_client-6.1.7-py_0.tar.bz2\n",
      "https://repo.anaconda.com/pkgs/main/linux-64/pip-20.2.4-py38h06a4308_0.conda\n",
      "https://conda.anaconda.org/conda-forge/noarch/pygments-2.7.3-pyhd8ed1ab_0.tar.bz2\n",
      "https://repo.anaconda.com/pkgs/main/noarch/pyopenssl-19.1.0-pyhd3eb1b0_1.conda\n",
      "https://conda.anaconda.org/conda-forge/linux-64/bokeh-2.2.3-py38h578d9bd_0.tar.bz2\n",
      "https://conda.anaconda.org/conda-forge/noarch/dask-jobqueue-0.7.2-pyhd8ed1ab_0.tar.bz2\n",
      "https://conda.anaconda.org/conda-forge/noarch/jupyterlab_pygments-0.1.2-pyh9f0ad1d_0.tar.bz2\n",
      "https://conda.anaconda.org/conda-forge/noarch/nbformat-5.0.8-py_0.tar.bz2\n",
      "https://repo.anaconda.com/pkgs/main/noarch/urllib3-1.25.11-py_0.conda\n",
      "https://conda.anaconda.org/conda-forge/noarch/wcwidth-0.2.5-pyh9f0ad1d_2.tar.bz2\n",
      "https://conda.anaconda.org/conda-forge/noarch/dask-2020.12.0-pyhd8ed1ab_0.tar.bz2\n",
      "https://conda.anaconda.org/conda-forge/noarch/nbclient-0.5.1-py_0.tar.bz2\n",
      "https://conda.anaconda.org/conda-forge/noarch/prompt-toolkit-3.0.9-pyha770c72_0.tar.bz2\n",
      "https://repo.anaconda.com/pkgs/main/noarch/requests-2.24.0-py_0.conda\n",
      "https://conda.anaconda.org/conda-forge/linux-64/conda-4.9.2-py38h578d9bd_0.tar.bz2\n",
      "https://conda.anaconda.org/conda-forge/linux-64/ipython-7.19.0-py38h81c977d_0.tar.bz2\n",
      "https://conda.anaconda.org/conda-forge/linux-64/nbconvert-6.0.7-py38h578d9bd_3.tar.bz2\n",
      "https://conda.anaconda.org/conda-forge/linux-64/ipykernel-5.4.2-py38h81c977d_0.tar.bz2\n",
      "https://conda.anaconda.org/conda-forge/linux-64/jupyter_server-1.1.4-py38h578d9bd_0.tar.bz2\n",
      "https://conda.anaconda.org/conda-forge/noarch/jupyterlab_server-2.0.0-pyhd8ed1ab_0.tar.bz2\n",
      "https://conda.anaconda.org/conda-forge/linux-64/notebook-6.1.6-py38h578d9bd_0.tar.bz2\n",
      "https://conda.anaconda.org/conda-forge/noarch/nbclassic-0.2.5-pyhd8ed1ab_0.tar.bz2\n",
      "https://conda.anaconda.org/conda-forge/noarch/jupyterlab-3.0.1-pyhd8ed1ab_0.tar.bz2\n"
     ]
    }
   ],
   "source": [
    "!conda list --explicit"
   ]
  }
 ],
 "metadata": {
  "kernelspec": {
   "display_name": "Python 3",
   "language": "python",
   "name": "python3"
  },
  "language_info": {
   "codemirror_mode": {
    "name": "ipython",
    "version": 3
   },
   "file_extension": ".py",
   "mimetype": "text/x-python",
   "name": "python",
   "nbconvert_exporter": "python",
   "pygments_lexer": "ipython3",
   "version": "3.8.5"
  }
 },
 "nbformat": 4,
 "nbformat_minor": 4
}
