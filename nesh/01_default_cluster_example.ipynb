{
 "cells": [
  {
   "cell_type": "markdown",
   "metadata": {},
   "source": [
    "# Dask jobqueue example for NEC Linux cluster\n",
    "covers the following aspects, i.e. how to\n",
    "* load project and machine specific Dask jobqueue configurations\n",
    "* open, scale and close a default jobqueue cluster\n",
    "* do an example calculation on larger than memory data"
   ]
  },
  {
   "cell_type": "markdown",
   "metadata": {},
   "source": [
    "## Load jobqueue configuration defaults"
   ]
  },
  {
   "cell_type": "code",
   "execution_count": 1,
   "metadata": {},
   "outputs": [],
   "source": [
    "import os \n",
    "os.environ['DASK_CONFIG']='.' # use local directory to look up Dask configurations"
   ]
  },
  {
   "cell_type": "code",
   "execution_count": 2,
   "metadata": {},
   "outputs": [
    {
     "data": {
      "text/plain": [
       "{'nesh-jobqueue-config': {'cores': 4,\n",
       "  'memory': '24GB',\n",
       "  'processes': 1,\n",
       "  'queue': 'clmedium',\n",
       "  'resource_spec': 'elapstim_req=00:45:00,cpunum_job=4,memsz_job=24gb',\n",
       "  'interface': 'ib0',\n",
       "  'local-directory': '/scratch',\n",
       "  'walltime': None,\n",
       "  'job-extra': ['-o dask_jobqueue_logs/dask-worker.o%s',\n",
       "   '-e dask_jobqueue_logs/dask-worker.e%s'],\n",
       "  'project': None,\n",
       "  'name': 'dask-worker',\n",
       "  'death-timeout': 60,\n",
       "  'extra': [],\n",
       "  'env-extra': [],\n",
       "  'log-directory': None,\n",
       "  'shebang': '#!/bin/bash'}}"
      ]
     },
     "execution_count": 2,
     "metadata": {},
     "output_type": "execute_result"
    }
   ],
   "source": [
    "import dask.config\n",
    "dask.config.get('jobqueue') # prints available jobqueue configurations"
   ]
  },
  {
   "cell_type": "markdown",
   "metadata": {},
   "source": [
    "## Set up jobqueue cluster ..."
   ]
  },
  {
   "cell_type": "code",
   "execution_count": 3,
   "metadata": {},
   "outputs": [],
   "source": [
    "import dask_jobqueue\n",
    "default_cluster = dask_jobqueue.PBSCluster(config_name='nesh-jobqueue-config')"
   ]
  },
  {
   "cell_type": "code",
   "execution_count": 4,
   "metadata": {},
   "outputs": [
    {
     "name": "stdout",
     "output_type": "stream",
     "text": [
      "#!/bin/bash\n",
      "\n",
      "#PBS -N dask-worker\n",
      "#PBS -q clmedium\n",
      "#PBS -l elapstim_req=00:45:00,cpunum_job=4,memsz_job=24gb\n",
      "#PBS -o dask_jobqueue_logs/dask-worker.o%s\n",
      "#PBS -e dask_jobqueue_logs/dask-worker.e%s\n",
      "JOB_ID=${PBS_JOBID%%.*}\n",
      "\n",
      "/sfs/fs6/home-geomar/smomw260/miniconda3/envs/dask-minimal-20191218/bin/python -m distributed.cli.dask_worker tcp://192.168.31.10:32956 --nthreads 4 --memory-limit 24.00GB --name name --nanny --death-timeout 60 --local-directory /scratch --interface ib0\n",
      "\n"
     ]
    }
   ],
   "source": [
    "print(default_cluster.job_script())"
   ]
  },
  {
   "cell_type": "markdown",
   "metadata": {},
   "source": [
    "## ... and the client process"
   ]
  },
  {
   "cell_type": "code",
   "execution_count": 5,
   "metadata": {},
   "outputs": [],
   "source": [
    "import dask.distributed as dask_distributed\n",
    "default_cluster_client = dask_distributed.Client(default_cluster)"
   ]
  },
  {
   "cell_type": "markdown",
   "metadata": {},
   "source": [
    "## Start jobqueue workers"
   ]
  },
  {
   "cell_type": "code",
   "execution_count": 6,
   "metadata": {},
   "outputs": [],
   "source": [
    "default_cluster.scale(jobs=2)"
   ]
  },
  {
   "cell_type": "code",
   "execution_count": 7,
   "metadata": {},
   "outputs": [
    {
     "name": "stdout",
     "output_type": "stream",
     "text": [
      "RequestID       ReqName  UserName Queue     Pri STT S   Memory      CPU   Elapse R H M Jobs\n",
      "--------------- -------- -------- -------- ---- --- - -------- -------- -------- - - - ----\n",
      "182478.nesh-bat dask-wor smomw260 clmedium    0 RUN -    0.00B     0.00        8 Y Y Y    1 \n",
      "182479.nesh-bat dask-wor smomw260 clmedium    0 RUN -    0.00B     0.00        8 Y Y Y    1 \n"
     ]
    }
   ],
   "source": [
    "!qstat"
   ]
  },
  {
   "cell_type": "code",
   "execution_count": 8,
   "metadata": {},
   "outputs": [
    {
     "data": {
      "text/html": [
       "<table style=\"border: 2px solid white;\">\n",
       "<tr>\n",
       "<td style=\"vertical-align: top; border: 0px solid white\">\n",
       "<h3 style=\"text-align: left;\">Client</h3>\n",
       "<ul style=\"text-align: left; list-style: none; margin: 0; padding: 0;\">\n",
       "  <li><b>Scheduler: </b>tcp://192.168.31.10:32956</li>\n",
       "  <li><b>Dashboard: </b><a href='http://192.168.31.10:8787/status' target='_blank'>http://192.168.31.10:8787/status</a>\n",
       "</ul>\n",
       "</td>\n",
       "<td style=\"vertical-align: top; border: 0px solid white\">\n",
       "<h3 style=\"text-align: left;\">Cluster</h3>\n",
       "<ul style=\"text-align: left; list-style:none; margin: 0; padding: 0;\">\n",
       "  <li><b>Workers: </b>2</li>\n",
       "  <li><b>Cores: </b>8</li>\n",
       "  <li><b>Memory: </b>48.00 GB</li>\n",
       "</ul>\n",
       "</td>\n",
       "</tr>\n",
       "</table>"
      ],
      "text/plain": [
       "<Client: 'tcp://192.168.31.10:32956' processes=2 threads=8, memory=48.00 GB>"
      ]
     },
     "execution_count": 8,
     "metadata": {},
     "output_type": "execute_result"
    }
   ],
   "source": [
    "default_cluster_client"
   ]
  },
  {
   "cell_type": "markdown",
   "metadata": {},
   "source": [
    "## Do calculation on larger than memory data"
   ]
  },
  {
   "cell_type": "code",
   "execution_count": 9,
   "metadata": {},
   "outputs": [],
   "source": [
    "import dask.array as da"
   ]
  },
  {
   "cell_type": "code",
   "execution_count": 10,
   "metadata": {},
   "outputs": [
    {
     "data": {
      "text/html": [
       "<table>\n",
       "<tr>\n",
       "<td>\n",
       "<table>\n",
       "  <thead>\n",
       "    <tr><td> </td><th> Array </th><th> Chunk </th></tr>\n",
       "  </thead>\n",
       "  <tbody>\n",
       "    <tr><th> Bytes </th><td> 292.00 GB </td> <td> 730.00 MB </td></tr>\n",
       "    <tr><th> Shape </th><td> (365, 10000, 10000) </td> <td> (365, 500, 500) </td></tr>\n",
       "    <tr><th> Count </th><td> 400 Tasks </td><td> 400 Chunks </td></tr>\n",
       "    <tr><th> Type </th><td> float64 </td><td> numpy.ndarray </td></tr>\n",
       "  </tbody>\n",
       "</table>\n",
       "</td>\n",
       "<td>\n",
       "<svg width=\"199\" height=\"189\" style=\"stroke:rgb(0,0,0);stroke-width:1\" >\n",
       "\n",
       "  <!-- Horizontal lines -->\n",
       "  <line x1=\"10\" y1=\"0\" x2=\"29\" y2=\"19\" style=\"stroke-width:2\" />\n",
       "  <line x1=\"10\" y1=\"6\" x2=\"29\" y2=\"25\" />\n",
       "  <line x1=\"10\" y1=\"12\" x2=\"29\" y2=\"31\" />\n",
       "  <line x1=\"10\" y1=\"18\" x2=\"29\" y2=\"37\" />\n",
       "  <line x1=\"10\" y1=\"24\" x2=\"29\" y2=\"43\" />\n",
       "  <line x1=\"10\" y1=\"30\" x2=\"29\" y2=\"49\" />\n",
       "  <line x1=\"10\" y1=\"36\" x2=\"29\" y2=\"55\" />\n",
       "  <line x1=\"10\" y1=\"42\" x2=\"29\" y2=\"61\" />\n",
       "  <line x1=\"10\" y1=\"48\" x2=\"29\" y2=\"67\" />\n",
       "  <line x1=\"10\" y1=\"54\" x2=\"29\" y2=\"73\" />\n",
       "  <line x1=\"10\" y1=\"60\" x2=\"29\" y2=\"79\" />\n",
       "  <line x1=\"10\" y1=\"66\" x2=\"29\" y2=\"85\" />\n",
       "  <line x1=\"10\" y1=\"72\" x2=\"29\" y2=\"91\" />\n",
       "  <line x1=\"10\" y1=\"78\" x2=\"29\" y2=\"97\" />\n",
       "  <line x1=\"10\" y1=\"84\" x2=\"29\" y2=\"103\" />\n",
       "  <line x1=\"10\" y1=\"90\" x2=\"29\" y2=\"109\" />\n",
       "  <line x1=\"10\" y1=\"96\" x2=\"29\" y2=\"115\" />\n",
       "  <line x1=\"10\" y1=\"102\" x2=\"29\" y2=\"121\" />\n",
       "  <line x1=\"10\" y1=\"108\" x2=\"29\" y2=\"127\" />\n",
       "  <line x1=\"10\" y1=\"114\" x2=\"29\" y2=\"133\" />\n",
       "  <line x1=\"10\" y1=\"120\" x2=\"29\" y2=\"139\" style=\"stroke-width:2\" />\n",
       "\n",
       "  <!-- Vertical lines -->\n",
       "  <line x1=\"10\" y1=\"0\" x2=\"10\" y2=\"120\" style=\"stroke-width:2\" />\n",
       "  <line x1=\"29\" y1=\"19\" x2=\"29\" y2=\"139\" style=\"stroke-width:2\" />\n",
       "\n",
       "  <!-- Colored Rectangle -->\n",
       "  <polygon points=\"10.000000,0.000000 29.161809,19.161809 29.161809,139.161809 10.000000,120.000000\" style=\"fill:#ECB172A0;stroke-width:0\"/>\n",
       "\n",
       "  <!-- Horizontal lines -->\n",
       "  <line x1=\"10\" y1=\"0\" x2=\"130\" y2=\"0\" style=\"stroke-width:2\" />\n",
       "  <line x1=\"29\" y1=\"19\" x2=\"149\" y2=\"19\" style=\"stroke-width:2\" />\n",
       "\n",
       "  <!-- Vertical lines -->\n",
       "  <line x1=\"10\" y1=\"0\" x2=\"29\" y2=\"19\" style=\"stroke-width:2\" />\n",
       "  <line x1=\"16\" y1=\"0\" x2=\"35\" y2=\"19\" />\n",
       "  <line x1=\"22\" y1=\"0\" x2=\"41\" y2=\"19\" />\n",
       "  <line x1=\"28\" y1=\"0\" x2=\"47\" y2=\"19\" />\n",
       "  <line x1=\"34\" y1=\"0\" x2=\"53\" y2=\"19\" />\n",
       "  <line x1=\"40\" y1=\"0\" x2=\"59\" y2=\"19\" />\n",
       "  <line x1=\"46\" y1=\"0\" x2=\"65\" y2=\"19\" />\n",
       "  <line x1=\"52\" y1=\"0\" x2=\"71\" y2=\"19\" />\n",
       "  <line x1=\"58\" y1=\"0\" x2=\"77\" y2=\"19\" />\n",
       "  <line x1=\"64\" y1=\"0\" x2=\"83\" y2=\"19\" />\n",
       "  <line x1=\"70\" y1=\"0\" x2=\"89\" y2=\"19\" />\n",
       "  <line x1=\"76\" y1=\"0\" x2=\"95\" y2=\"19\" />\n",
       "  <line x1=\"82\" y1=\"0\" x2=\"101\" y2=\"19\" />\n",
       "  <line x1=\"88\" y1=\"0\" x2=\"107\" y2=\"19\" />\n",
       "  <line x1=\"94\" y1=\"0\" x2=\"113\" y2=\"19\" />\n",
       "  <line x1=\"100\" y1=\"0\" x2=\"119\" y2=\"19\" />\n",
       "  <line x1=\"106\" y1=\"0\" x2=\"125\" y2=\"19\" />\n",
       "  <line x1=\"112\" y1=\"0\" x2=\"131\" y2=\"19\" />\n",
       "  <line x1=\"118\" y1=\"0\" x2=\"137\" y2=\"19\" />\n",
       "  <line x1=\"124\" y1=\"0\" x2=\"143\" y2=\"19\" />\n",
       "  <line x1=\"130\" y1=\"0\" x2=\"149\" y2=\"19\" style=\"stroke-width:2\" />\n",
       "\n",
       "  <!-- Colored Rectangle -->\n",
       "  <polygon points=\"10.000000,0.000000 130.000000,0.000000 149.161809,19.161809 29.161809,19.161809\" style=\"fill:#ECB172A0;stroke-width:0\"/>\n",
       "\n",
       "  <!-- Horizontal lines -->\n",
       "  <line x1=\"29\" y1=\"19\" x2=\"149\" y2=\"19\" style=\"stroke-width:2\" />\n",
       "  <line x1=\"29\" y1=\"25\" x2=\"149\" y2=\"25\" />\n",
       "  <line x1=\"29\" y1=\"31\" x2=\"149\" y2=\"31\" />\n",
       "  <line x1=\"29\" y1=\"37\" x2=\"149\" y2=\"37\" />\n",
       "  <line x1=\"29\" y1=\"43\" x2=\"149\" y2=\"43\" />\n",
       "  <line x1=\"29\" y1=\"49\" x2=\"149\" y2=\"49\" />\n",
       "  <line x1=\"29\" y1=\"55\" x2=\"149\" y2=\"55\" />\n",
       "  <line x1=\"29\" y1=\"61\" x2=\"149\" y2=\"61\" />\n",
       "  <line x1=\"29\" y1=\"67\" x2=\"149\" y2=\"67\" />\n",
       "  <line x1=\"29\" y1=\"73\" x2=\"149\" y2=\"73\" />\n",
       "  <line x1=\"29\" y1=\"79\" x2=\"149\" y2=\"79\" />\n",
       "  <line x1=\"29\" y1=\"85\" x2=\"149\" y2=\"85\" />\n",
       "  <line x1=\"29\" y1=\"91\" x2=\"149\" y2=\"91\" />\n",
       "  <line x1=\"29\" y1=\"97\" x2=\"149\" y2=\"97\" />\n",
       "  <line x1=\"29\" y1=\"103\" x2=\"149\" y2=\"103\" />\n",
       "  <line x1=\"29\" y1=\"109\" x2=\"149\" y2=\"109\" />\n",
       "  <line x1=\"29\" y1=\"115\" x2=\"149\" y2=\"115\" />\n",
       "  <line x1=\"29\" y1=\"121\" x2=\"149\" y2=\"121\" />\n",
       "  <line x1=\"29\" y1=\"127\" x2=\"149\" y2=\"127\" />\n",
       "  <line x1=\"29\" y1=\"133\" x2=\"149\" y2=\"133\" />\n",
       "  <line x1=\"29\" y1=\"139\" x2=\"149\" y2=\"139\" style=\"stroke-width:2\" />\n",
       "\n",
       "  <!-- Vertical lines -->\n",
       "  <line x1=\"29\" y1=\"19\" x2=\"29\" y2=\"139\" style=\"stroke-width:2\" />\n",
       "  <line x1=\"35\" y1=\"19\" x2=\"35\" y2=\"139\" />\n",
       "  <line x1=\"41\" y1=\"19\" x2=\"41\" y2=\"139\" />\n",
       "  <line x1=\"47\" y1=\"19\" x2=\"47\" y2=\"139\" />\n",
       "  <line x1=\"53\" y1=\"19\" x2=\"53\" y2=\"139\" />\n",
       "  <line x1=\"59\" y1=\"19\" x2=\"59\" y2=\"139\" />\n",
       "  <line x1=\"65\" y1=\"19\" x2=\"65\" y2=\"139\" />\n",
       "  <line x1=\"71\" y1=\"19\" x2=\"71\" y2=\"139\" />\n",
       "  <line x1=\"77\" y1=\"19\" x2=\"77\" y2=\"139\" />\n",
       "  <line x1=\"83\" y1=\"19\" x2=\"83\" y2=\"139\" />\n",
       "  <line x1=\"89\" y1=\"19\" x2=\"89\" y2=\"139\" />\n",
       "  <line x1=\"95\" y1=\"19\" x2=\"95\" y2=\"139\" />\n",
       "  <line x1=\"101\" y1=\"19\" x2=\"101\" y2=\"139\" />\n",
       "  <line x1=\"107\" y1=\"19\" x2=\"107\" y2=\"139\" />\n",
       "  <line x1=\"113\" y1=\"19\" x2=\"113\" y2=\"139\" />\n",
       "  <line x1=\"119\" y1=\"19\" x2=\"119\" y2=\"139\" />\n",
       "  <line x1=\"125\" y1=\"19\" x2=\"125\" y2=\"139\" />\n",
       "  <line x1=\"131\" y1=\"19\" x2=\"131\" y2=\"139\" />\n",
       "  <line x1=\"137\" y1=\"19\" x2=\"137\" y2=\"139\" />\n",
       "  <line x1=\"143\" y1=\"19\" x2=\"143\" y2=\"139\" />\n",
       "  <line x1=\"149\" y1=\"19\" x2=\"149\" y2=\"139\" style=\"stroke-width:2\" />\n",
       "\n",
       "  <!-- Colored Rectangle -->\n",
       "  <polygon points=\"29.161809,19.161809 149.161809,19.161809 149.161809,139.161809 29.161809,139.161809\" style=\"fill:#ECB172A0;stroke-width:0\"/>\n",
       "\n",
       "  <!-- Text -->\n",
       "  <text x=\"89.161809\" y=\"159.161809\" font-size=\"1.0rem\" font-weight=\"100\" text-anchor=\"middle\" >10000</text>\n",
       "  <text x=\"169.161809\" y=\"79.161809\" font-size=\"1.0rem\" font-weight=\"100\" text-anchor=\"middle\" transform=\"rotate(-90,169.161809,79.161809)\">10000</text>\n",
       "  <text x=\"9.580905\" y=\"149.580905\" font-size=\"1.0rem\" font-weight=\"100\" text-anchor=\"middle\" transform=\"rotate(45,9.580905,149.580905)\">365</text>\n",
       "</svg>\n",
       "</td>\n",
       "</tr>\n",
       "</table>"
      ],
      "text/plain": [
       "dask.array<uniform, shape=(365, 10000, 10000), dtype=float64, chunksize=(365, 500, 500), chunktype=numpy.ndarray>"
      ]
     },
     "execution_count": 10,
     "metadata": {},
     "output_type": "execute_result"
    }
   ],
   "source": [
    "fake_data = da.random.uniform(0, 1, size=(365, 1e4, 1e4), chunks=(365,500,500)) # problem specific chunking\n",
    "fake_data"
   ]
  },
  {
   "cell_type": "code",
   "execution_count": 11,
   "metadata": {},
   "outputs": [],
   "source": [
    "import time"
   ]
  },
  {
   "cell_type": "code",
   "execution_count": 12,
   "metadata": {},
   "outputs": [],
   "source": [
    "start_time = time.time()\n",
    "fake_data.mean(axis=0).compute()\n",
    "elapsed = time.time() - start_time"
   ]
  },
  {
   "cell_type": "code",
   "execution_count": 13,
   "metadata": {},
   "outputs": [
    {
     "name": "stdout",
     "output_type": "stream",
     "text": [
      "elapse time  46.89112448692322  in seconds\n"
     ]
    }
   ],
   "source": [
    "print('elapse time ',elapsed,' in seconds')"
   ]
  },
  {
   "cell_type": "markdown",
   "metadata": {},
   "source": [
    "## Close jobqueue cluster and client process"
   ]
  },
  {
   "cell_type": "code",
   "execution_count": 14,
   "metadata": {},
   "outputs": [
    {
     "name": "stdout",
     "output_type": "stream",
     "text": [
      "RequestID       ReqName  UserName Queue     Pri STT S   Memory      CPU   Elapse R H M Jobs\n",
      "--------------- -------- -------- -------- ---- --- - -------- -------- -------- - - - ----\n",
      "182478.nesh-bat dask-wor smomw260 clmedium    0 RUN -    2.58G   157.12       94 Y Y Y    1 \n",
      "182479.nesh-bat dask-wor smomw260 clmedium    0 RUN -  804.87M   157.49       94 Y Y Y    1 \n"
     ]
    }
   ],
   "source": [
    "!qstat"
   ]
  },
  {
   "cell_type": "code",
   "execution_count": 15,
   "metadata": {},
   "outputs": [],
   "source": [
    "default_cluster.close()\n",
    "default_cluster_client.close()"
   ]
  },
  {
   "cell_type": "code",
   "execution_count": 16,
   "metadata": {},
   "outputs": [],
   "source": [
    "!qstat"
   ]
  },
  {
   "cell_type": "code",
   "execution_count": null,
   "metadata": {},
   "outputs": [],
   "source": []
  }
 ],
 "metadata": {
  "kernelspec": {
   "display_name": "Python [conda env:dask-minimal-20191218]",
   "language": "python",
   "name": "conda-env-dask-minimal-20191218-py"
  },
  "language_info": {
   "codemirror_mode": {
    "name": "ipython",
    "version": 3
   },
   "file_extension": ".py",
   "mimetype": "text/x-python",
   "name": "python",
   "nbconvert_exporter": "python",
   "pygments_lexer": "ipython3",
   "version": "3.8.0"
  }
 },
 "nbformat": 4,
 "nbformat_minor": 4
}
